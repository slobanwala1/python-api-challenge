{
 "cells": [
  {
   "cell_type": "markdown",
   "metadata": {},
   "source": [
    "# WeatherPy\n",
    "----\n",
    "\n",
    "#### Note\n",
    "* Instructions have been included for each segment. You do not have to follow them exactly, but they are included to help you think through the steps."
   ]
  },
  {
   "cell_type": "code",
   "execution_count": 229,
   "metadata": {
    "scrolled": true
   },
   "outputs": [],
   "source": [
    "# Dependencies and Setup\n",
    "import matplotlib.pyplot as plt\n",
    "import pandas as pd\n",
    "import numpy as np\n",
    "import requests\n",
    "import time\n",
    "from scipy.stats import linregress\n",
    "import os\n",
    "import csv\n",
    "import datetime\n",
    "\n",
    "# Import API key\n",
    "from api_keys import weather_api_key\n",
    "\n",
    "# Incorporated citipy to determine city based on latitude and longitude\n",
    "from citipy import citipy\n",
    "\n",
    "# Output File (CSV)\n",
    "output_data_file = \"../output_data/cities.csv\"\n",
    "\n",
    "\n",
    "# Range of latitudes and longitudes\n",
    "lat_range = (-90, 90)\n",
    "lng_range = (-180, 180)"
   ]
  },
  {
   "cell_type": "markdown",
   "metadata": {},
   "source": [
    "## Generate Cities List"
   ]
  },
  {
   "cell_type": "code",
   "execution_count": 230,
   "metadata": {},
   "outputs": [
    {
     "data": {
      "text/plain": [
       "624"
      ]
     },
     "execution_count": 230,
     "metadata": {},
     "output_type": "execute_result"
    }
   ],
   "source": [
    "# List for holding lat_lngs and cities\n",
    "lat_lngs = []\n",
    "cities = []\n",
    "\n",
    "# Create a set of random lat and lng combinations\n",
    "lats = np.random.uniform(lat_range[0], lat_range[1], size=1500)\n",
    "lngs = np.random.uniform(lng_range[0], lng_range[1], size=1500)\n",
    "lat_lngs = zip(lats, lngs)\n",
    "\n",
    "# Identify nearest city for each lat, lng combination\n",
    "for lat_lng in lat_lngs:\n",
    "    city = citipy.nearest_city(lat_lng[0], lat_lng[1]).city_name\n",
    "    \n",
    "    # If the city is unique, then add it to a our cities list\n",
    "    if city not in cities:\n",
    "        cities.append(city)\n",
    "\n",
    "# Print the city count to confirm sufficient count\n",
    "len(cities)"
   ]
  },
  {
   "cell_type": "markdown",
   "metadata": {},
   "source": [
    "### Perform API Calls\n",
    "* Perform a weather check on each city using a series of successive API calls.\n",
    "* Include a print log of each city as it'sbeing processed (with the city number and city name).\n"
   ]
  },
  {
   "cell_type": "code",
   "execution_count": 231,
   "metadata": {
    "scrolled": true
   },
   "outputs": [
    {
     "name": "stdout",
     "output_type": "stream",
     "text": [
      "Processing Record 1 of Set 1 | egvekinot\n",
      "Processing Record 2 of Set 1 | kapaa\n",
      "Processing Record 3 of Set 1 | bairiki\n",
      "Processing Record 4 of Set 1 | esperance\n",
      "Processing Record 5 of Set 1 | jamestown\n",
      "Processing Record 6 of Set 1 | nanortalik\n",
      "Processing Record 7 of Set 1 | oskarshamn\n",
      "Processing Record 8 of Set 1 | albany\n",
      "City not found. Skipping...\n",
      "Processing Record 9 of Set 1 | punta arenas\n",
      "Processing Record 10 of Set 1 | ushuaia\n",
      "Processing Record 11 of Set 1 | rikitea\n",
      "Processing Record 12 of Set 1 | kastamonu\n",
      "Processing Record 13 of Set 1 | emerald\n",
      "City not found. Skipping...\n",
      "Processing Record 14 of Set 1 | mar del plata\n",
      "Processing Record 15 of Set 1 | isabela\n",
      "Processing Record 16 of Set 1 | grand gaube\n",
      "Processing Record 17 of Set 1 | vao\n",
      "Processing Record 18 of Set 1 | vilyuysk\n",
      "Processing Record 19 of Set 1 | sao filipe\n",
      "Processing Record 20 of Set 1 | flinders\n",
      "City not found. Skipping...\n",
      "Processing Record 21 of Set 1 | sigayevo\n",
      "Processing Record 22 of Set 1 | severo-kurilsk\n",
      "Processing Record 23 of Set 1 | victoria\n",
      "Processing Record 24 of Set 1 | tuktoyaktuk\n",
      "Processing Record 25 of Set 1 | los llanos de aridane\n",
      "Processing Record 26 of Set 1 | puerto ayora\n",
      "Processing Record 27 of Set 1 | okhotsk\n",
      "Processing Record 28 of Set 1 | port elizabeth\n",
      "Processing Record 29 of Set 1 | mataura\n",
      "Processing Record 30 of Set 1 | taoudenni\n",
      "Processing Record 31 of Set 1 | souillac\n",
      "Processing Record 32 of Set 1 | narimanov\n",
      "City not found. Skipping...\n",
      "Processing Record 33 of Set 1 | hobart\n",
      "City not found. Skipping...\n",
      "Processing Record 34 of Set 1 | haines junction\n",
      "Processing Record 35 of Set 1 | atuona\n",
      "Processing Record 36 of Set 1 | saverne\n",
      "Processing Record 37 of Set 1 | cape town\n",
      "Processing Record 38 of Set 1 | lakhipur\n",
      "Processing Record 39 of Set 1 | waingapu\n",
      "Processing Record 40 of Set 1 | auki\n",
      "Processing Record 41 of Set 1 | corn island\n",
      "Processing Record 42 of Set 1 | katsuura\n",
      "Processing Record 43 of Set 1 | kodinsk\n",
      "Processing Record 44 of Set 1 | walvis bay\n",
      "Processing Record 45 of Set 1 | torbay\n",
      "Processing Record 46 of Set 1 | requena\n",
      "Processing Record 47 of Set 1 | reserva\n",
      "City not found. Skipping...\n",
      "Processing Record 48 of Set 1 | avarua\n",
      "Processing Record 49 of Set 1 | bluff\n",
      "Processing Record 1 of Set 2 | ranchuelo\n",
      "Processing Record 2 of Set 2 | butaritari\n",
      "Processing Record 3 of Set 2 | bay roberts\n",
      "City not found. Skipping...\n",
      "Processing Record 4 of Set 2 | amahai\n",
      "Processing Record 5 of Set 2 | new norfolk\n",
      "City not found. Skipping...\n",
      "Processing Record 6 of Set 2 | kavaratti\n",
      "Processing Record 7 of Set 2 | georgetown\n",
      "City not found. Skipping...\n",
      "Processing Record 8 of Set 2 | camacha\n",
      "Processing Record 9 of Set 2 | bredasdorp\n",
      "Processing Record 10 of Set 2 | dikson\n",
      "Processing Record 11 of Set 2 | san ramon de la nueva oran\n",
      "Processing Record 12 of Set 2 | carnarvon\n",
      "Processing Record 13 of Set 2 | guerrero negro\n",
      "Processing Record 14 of Set 2 | lebu\n",
      "Processing Record 15 of Set 2 | port hardy\n",
      "Processing Record 16 of Set 2 | tortoli\n",
      "Processing Record 17 of Set 2 | galle\n",
      "Processing Record 18 of Set 2 | kaitangata\n",
      "Processing Record 19 of Set 2 | kodiak\n",
      "Processing Record 20 of Set 2 | olinda\n",
      "Processing Record 21 of Set 2 | opuwo\n",
      "Processing Record 22 of Set 2 | covilha\n",
      "Processing Record 23 of Set 2 | carutapera\n",
      "Processing Record 24 of Set 2 | mae ramat\n",
      "City not found. Skipping...\n",
      "Processing Record 25 of Set 2 | inta\n",
      "Processing Record 26 of Set 2 | ushumun\n",
      "Processing Record 27 of Set 2 | qaanaaq\n",
      "Processing Record 28 of Set 2 | garoua boulai\n",
      "Processing Record 29 of Set 2 | dangriga\n",
      "Processing Record 30 of Set 2 | halifax\n",
      "Processing Record 31 of Set 2 | savinka\n",
      "Processing Record 32 of Set 2 | tatawin\n",
      "Processing Record 33 of Set 2 | busselton\n",
      "Processing Record 34 of Set 2 | vaini\n",
      "Processing Record 35 of Set 2 | sirajganj\n",
      "Processing Record 36 of Set 2 | lewistown\n",
      "Processing Record 37 of Set 2 | ribeira grande\n",
      "Processing Record 38 of Set 2 | fairbanks\n",
      "Processing Record 39 of Set 2 | olafsvik\n",
      "Processing Record 40 of Set 2 | port alfred\n",
      "Processing Record 41 of Set 2 | kalga\n",
      "Processing Record 42 of Set 2 | bengkulu\n",
      "Processing Record 43 of Set 2 | leningradskiy\n",
      "Processing Record 44 of Set 2 | padang\n",
      "City not found. Skipping...\n",
      "Processing Record 45 of Set 2 | pevek\n",
      "City not found. Skipping...\n",
      "Processing Record 46 of Set 2 | khatanga\n",
      "Processing Record 47 of Set 2 | imbituba\n",
      "Processing Record 48 of Set 2 | the pas\n",
      "Processing Record 49 of Set 2 | coolum beach\n",
      "City not found. Skipping...\n",
      "Processing Record 1 of Set 3 | faanui\n",
      "Processing Record 2 of Set 3 | thinadhoo\n",
      "City not found. Skipping...\n",
      "Processing Record 3 of Set 3 | shache\n",
      "Processing Record 4 of Set 3 | shrewsbury\n",
      "Processing Record 5 of Set 3 | izhevskoye\n",
      "Processing Record 6 of Set 3 | vostok\n",
      "Processing Record 7 of Set 3 | broken hill\n",
      "Processing Record 8 of Set 3 | longyearbyen\n",
      "City not found. Skipping...\n",
      "Processing Record 9 of Set 3 | marawi\n",
      "Processing Record 10 of Set 3 | ipaba\n",
      "Processing Record 11 of Set 3 | huilong\n",
      "Processing Record 12 of Set 3 | nemuro\n",
      "Processing Record 13 of Set 3 | hilo\n",
      "City not found. Skipping...\n",
      "Processing Record 14 of Set 3 | mecca\n",
      "Processing Record 15 of Set 3 | diamantino\n",
      "Processing Record 16 of Set 3 | codrington\n",
      "Processing Record 17 of Set 3 | kenai\n",
      "Processing Record 18 of Set 3 | bundaberg\n",
      "Processing Record 19 of Set 3 | fort nelson\n",
      "Processing Record 20 of Set 3 | qui nhon\n",
      "Processing Record 21 of Set 3 | gizo\n",
      "City not found. Skipping...\n",
      "Processing Record 22 of Set 3 | chokurdakh\n",
      "Processing Record 23 of Set 3 | sesheke\n",
      "Processing Record 24 of Set 3 | provideniya\n",
      "Processing Record 25 of Set 3 | ionia\n",
      "Processing Record 26 of Set 3 | seymchan\n",
      "Processing Record 27 of Set 3 | lorengau\n",
      "Processing Record 28 of Set 3 | labytnangi\n",
      "Processing Record 29 of Set 3 | mackenzie\n",
      "Processing Record 30 of Set 3 | tigre\n",
      "Processing Record 31 of Set 3 | laguna\n",
      "Processing Record 32 of Set 3 | la asuncion\n",
      "Processing Record 33 of Set 3 | sinnamary\n",
      "Processing Record 34 of Set 3 | rundu\n",
      "Processing Record 35 of Set 3 | kananga\n",
      "Processing Record 36 of Set 3 | tadine\n",
      "Processing Record 37 of Set 3 | saint anthony\n",
      "Processing Record 38 of Set 3 | cuxhaven\n",
      "Processing Record 39 of Set 3 | blackwater\n",
      "Processing Record 40 of Set 3 | baghdad\n",
      "Processing Record 41 of Set 3 | talnakh\n",
      "Processing Record 42 of Set 3 | koungou\n",
      "Processing Record 43 of Set 3 | yellowknife\n",
      "City not found. Skipping...\n",
      "Processing Record 44 of Set 3 | hermanus\n",
      "Processing Record 45 of Set 3 | snezhnogorsk\n",
      "Processing Record 46 of Set 3 | santiago del estero\n",
      "Processing Record 47 of Set 3 | kyzyl-suu\n",
      "Processing Record 48 of Set 3 | upernavik\n",
      "Processing Record 49 of Set 3 | barbate\n",
      "Processing Record 1 of Set 4 | east london\n",
      "Processing Record 2 of Set 4 | beringovskiy\n",
      "Processing Record 3 of Set 4 | fairview\n",
      "Processing Record 4 of Set 4 | maua\n",
      "Processing Record 5 of Set 4 | broome\n",
      "Processing Record 6 of Set 4 | narsaq\n",
      "Processing Record 7 of Set 4 | ponta do sol\n",
      "Processing Record 8 of Set 4 | saint paul\n",
      "Processing Record 9 of Set 4 | djambala\n",
      "Processing Record 10 of Set 4 | ilulissat\n",
      "Processing Record 11 of Set 4 | arraial do cabo\n",
      "City not found. Skipping...\n",
      "Processing Record 12 of Set 4 | pangnirtung\n",
      "City not found. Skipping...\n",
      "Processing Record 13 of Set 4 | saldanha\n",
      "Processing Record 14 of Set 4 | cabra\n",
      "Processing Record 15 of Set 4 | deniliquin\n",
      "Processing Record 16 of Set 4 | mathathane\n",
      "Processing Record 17 of Set 4 | mangrol\n",
      "Processing Record 18 of Set 4 | wenshang\n",
      "Processing Record 19 of Set 4 | saint-philippe\n",
      "Processing Record 20 of Set 4 | cartagena\n",
      "Processing Record 21 of Set 4 | maunabo\n",
      "Processing Record 22 of Set 4 | bethel\n",
      "Processing Record 23 of Set 4 | buin\n",
      "Processing Record 24 of Set 4 | anadyr\n",
      "Processing Record 25 of Set 4 | thompson\n",
      "Processing Record 26 of Set 4 | husavik\n",
      "Processing Record 27 of Set 4 | pakala\n",
      "Processing Record 28 of Set 4 | akyab\n",
      "Processing Record 29 of Set 4 | poum\n",
      "Processing Record 30 of Set 4 | kaili\n",
      "Processing Record 31 of Set 4 | vadu izei\n",
      "Processing Record 32 of Set 4 | seoul\n",
      "Processing Record 33 of Set 4 | mount isa\n",
      "Processing Record 34 of Set 4 | manavalakurichi\n",
      "Processing Record 35 of Set 4 | phan thiet\n",
      "City not found. Skipping...\n",
      "Processing Record 36 of Set 4 | miquelon\n",
      "Processing Record 37 of Set 4 | sobolevo\n",
      "Processing Record 38 of Set 4 | vietri sul mare\n",
      "Processing Record 39 of Set 4 | port lincoln\n"
     ]
    },
    {
     "name": "stdout",
     "output_type": "stream",
     "text": [
      "Processing Record 40 of Set 4 | kalmunai\n",
      "Processing Record 41 of Set 4 | imeni poliny osipenko\n",
      "Processing Record 42 of Set 4 | asau\n",
      "Processing Record 43 of Set 4 | la ronge\n",
      "Processing Record 44 of Set 4 | meulaboh\n",
      "Processing Record 45 of Set 4 | alofi\n",
      "Processing Record 46 of Set 4 | hailey\n",
      "Processing Record 47 of Set 4 | ulladulla\n",
      "Processing Record 48 of Set 4 | ketou\n",
      "Processing Record 49 of Set 4 | ixtapa\n",
      "Processing Record 1 of Set 5 | tautira\n",
      "Processing Record 2 of Set 5 | half moon bay\n",
      "Processing Record 3 of Set 5 | dunedin\n",
      "Processing Record 4 of Set 5 | bilokurakyne\n",
      "Processing Record 5 of Set 5 | tete\n",
      "Processing Record 6 of Set 5 | svolvaer\n",
      "Processing Record 7 of Set 5 | chara\n",
      "Processing Record 8 of Set 5 | latung\n",
      "Processing Record 9 of Set 5 | jinka\n",
      "Processing Record 10 of Set 5 | basoko\n",
      "Processing Record 11 of Set 5 | san quintin\n",
      "Processing Record 12 of Set 5 | xunchang\n",
      "Processing Record 13 of Set 5 | rio gallegos\n",
      "Processing Record 14 of Set 5 | kaeo\n",
      "Processing Record 15 of Set 5 | narrabri\n",
      "Processing Record 16 of Set 5 | dingle\n",
      "Processing Record 17 of Set 5 | sitka\n",
      "Processing Record 18 of Set 5 | luganville\n",
      "Processing Record 19 of Set 5 | sovetskiy\n",
      "Processing Record 20 of Set 5 | sisimiut\n",
      "Processing Record 21 of Set 5 | ardakan\n",
      "Processing Record 22 of Set 5 | fundao\n",
      "Processing Record 23 of Set 5 | mayor pablo lagerenza\n",
      "City not found. Skipping...\n",
      "Processing Record 24 of Set 5 | kharod\n",
      "Processing Record 25 of Set 5 | coruche\n",
      "Processing Record 26 of Set 5 | castro\n",
      "Processing Record 27 of Set 5 | chifeng\n",
      "Processing Record 28 of Set 5 | roald\n",
      "Processing Record 29 of Set 5 | gazanjyk\n",
      "Processing Record 30 of Set 5 | bonavista\n",
      "Processing Record 31 of Set 5 | kismayo\n",
      "Processing Record 32 of Set 5 | whitecourt\n",
      "Processing Record 33 of Set 5 | solnechnyy\n",
      "Processing Record 34 of Set 5 | bosaso\n",
      "Processing Record 35 of Set 5 | talaya\n",
      "Processing Record 36 of Set 5 | caravelas\n",
      "Processing Record 37 of Set 5 | kongolo\n",
      "Processing Record 38 of Set 5 | tura\n",
      "City not found. Skipping...\n",
      "Processing Record 39 of Set 5 | westport\n",
      "Processing Record 40 of Set 5 | iralaya\n",
      "Processing Record 41 of Set 5 | acapulco\n",
      "Processing Record 42 of Set 5 | gamba\n",
      "Processing Record 43 of Set 5 | cherskiy\n",
      "Processing Record 44 of Set 5 | sorong\n",
      "Processing Record 45 of Set 5 | shakhtinsk\n",
      "Processing Record 46 of Set 5 | mayumba\n",
      "City not found. Skipping...\n",
      "Processing Record 47 of Set 5 | whitehorse\n",
      "Processing Record 48 of Set 5 | acarau\n",
      "Processing Record 49 of Set 5 | saint pete beach\n",
      "Processing Record 1 of Set 6 | tsuruoka\n",
      "Processing Record 2 of Set 6 | skegness\n",
      "Processing Record 3 of Set 6 | gatehouse of fleet\n",
      "Processing Record 4 of Set 6 | jacareacanga\n",
      "Processing Record 5 of Set 6 | boysun\n",
      "Processing Record 6 of Set 6 | poya\n",
      "Processing Record 7 of Set 6 | acari\n",
      "Processing Record 8 of Set 6 | toora-khem\n",
      "Processing Record 9 of Set 6 | saskylakh\n",
      "Processing Record 10 of Set 6 | arfara\n",
      "Processing Record 11 of Set 6 | mayo\n",
      "Processing Record 12 of Set 6 | kalabo\n",
      "Processing Record 13 of Set 6 | inhambane\n",
      "Processing Record 14 of Set 6 | camocim\n",
      "Processing Record 15 of Set 6 | wageningen\n",
      "Processing Record 16 of Set 6 | tecoanapa\n",
      "Processing Record 17 of Set 6 | warrington\n",
      "Processing Record 18 of Set 6 | praia da vitoria\n",
      "Processing Record 19 of Set 6 | narayanpet\n",
      "Processing Record 20 of Set 6 | kabinda\n",
      "City not found. Skipping...\n",
      "Processing Record 21 of Set 6 | rawicz\n",
      "Processing Record 22 of Set 6 | cherkessk\n",
      "Processing Record 23 of Set 6 | balakhninskiy\n",
      "Processing Record 24 of Set 6 | kota tinggi\n",
      "Processing Record 25 of Set 6 | redlands\n",
      "Processing Record 26 of Set 6 | pisticci\n",
      "Processing Record 27 of Set 6 | albanel\n",
      "Processing Record 28 of Set 6 | praya\n",
      "Processing Record 29 of Set 6 | hithadhoo\n",
      "Processing Record 30 of Set 6 | baglung\n",
      "Processing Record 31 of Set 6 | bartica\n",
      "Processing Record 32 of Set 6 | bac lieu\n",
      "Processing Record 33 of Set 6 | nikolskoye\n",
      "Processing Record 34 of Set 6 | palestine\n",
      "Processing Record 35 of Set 6 | humaita\n",
      "Processing Record 36 of Set 6 | boyolangu\n",
      "Processing Record 37 of Set 6 | honningsvag\n",
      "Processing Record 38 of Set 6 | prince rupert\n",
      "Processing Record 39 of Set 6 | ahipara\n",
      "Processing Record 40 of Set 6 | liverpool\n",
      "Processing Record 41 of Set 6 | wonthaggi\n",
      "Processing Record 42 of Set 6 | nantucket\n",
      "Processing Record 43 of Set 6 | tual\n",
      "City not found. Skipping...\n",
      "Processing Record 44 of Set 6 | kupang\n",
      "Processing Record 45 of Set 6 | clarence town\n",
      "City not found. Skipping...\n",
      "Processing Record 46 of Set 6 | riyadh\n",
      "Processing Record 47 of Set 6 | selma\n",
      "Processing Record 48 of Set 6 | bethlehem\n",
      "Processing Record 49 of Set 6 | shaki\n",
      "Processing Record 1 of Set 7 | nuevitas\n",
      "Processing Record 2 of Set 7 | marsh harbour\n",
      "Processing Record 3 of Set 7 | kalengwa\n",
      "Processing Record 4 of Set 7 | chuy\n",
      "Processing Record 5 of Set 7 | karakol\n",
      "Processing Record 6 of Set 7 | kaka\n",
      "Processing Record 7 of Set 7 | sudbury\n",
      "Processing Record 8 of Set 7 | tafresh\n",
      "Processing Record 9 of Set 7 | kayerkan\n",
      "Processing Record 10 of Set 7 | sangmelima\n",
      "Processing Record 11 of Set 7 | tuatapere\n",
      "Processing Record 12 of Set 7 | sorland\n",
      "Processing Record 13 of Set 7 | big rapids\n",
      "Processing Record 14 of Set 7 | brae\n",
      "Processing Record 15 of Set 7 | worland\n",
      "Processing Record 16 of Set 7 | peddapalli\n",
      "Processing Record 17 of Set 7 | hualmay\n",
      "Processing Record 18 of Set 7 | ishigaki\n",
      "Processing Record 19 of Set 7 | luderitz\n",
      "City not found. Skipping...\n",
      "Processing Record 20 of Set 7 | adre\n",
      "Processing Record 21 of Set 7 | martaban\n",
      "Processing Record 22 of Set 7 | nishihara\n",
      "Processing Record 23 of Set 7 | montilla\n",
      "Processing Record 24 of Set 7 | fortuna\n",
      "Processing Record 25 of Set 7 | islamkot\n",
      "Processing Record 26 of Set 7 | yaqui\n",
      "Processing Record 27 of Set 7 | havelock\n",
      "Processing Record 28 of Set 7 | namatanai\n",
      "Processing Record 29 of Set 7 | iqaluit\n",
      "City not found. Skipping...\n",
      "Processing Record 30 of Set 7 | bongor\n",
      "City not found. Skipping...\n",
      "Processing Record 31 of Set 7 | huarmey\n",
      "Processing Record 32 of Set 7 | gazli\n",
      "Processing Record 33 of Set 7 | ponta delgada\n",
      "Processing Record 34 of Set 7 | pangody\n",
      "Processing Record 35 of Set 7 | altay\n",
      "Processing Record 36 of Set 7 | marystown\n",
      "Processing Record 37 of Set 7 | rivne\n",
      "Processing Record 38 of Set 7 | saint-joseph\n",
      "Processing Record 39 of Set 7 | lao cai\n",
      "Processing Record 40 of Set 7 | dzhebariki-khaya\n",
      "Processing Record 41 of Set 7 | barrow\n",
      "Processing Record 42 of Set 7 | conde\n",
      "Processing Record 43 of Set 7 | champerico\n",
      "Processing Record 44 of Set 7 | hobyo\n",
      "Processing Record 45 of Set 7 | nikolsk\n",
      "Processing Record 46 of Set 7 | lac du bonnet\n",
      "Processing Record 47 of Set 7 | buchanan\n",
      "Processing Record 48 of Set 7 | otavi\n",
      "Processing Record 49 of Set 7 | niono\n",
      "Processing Record 1 of Set 8 | beidao\n",
      "City not found. Skipping...\n",
      "Processing Record 2 of Set 8 | yulara\n",
      "Processing Record 3 of Set 8 | encheng\n",
      "Processing Record 4 of Set 8 | sabang\n",
      "Processing Record 5 of Set 8 | maraa\n",
      "Processing Record 6 of Set 8 | maldonado\n",
      "Processing Record 7 of Set 8 | tuy hoa\n",
      "Processing Record 8 of Set 8 | roros\n",
      "Processing Record 9 of Set 8 | sabha\n",
      "Processing Record 10 of Set 8 | faya\n",
      "Processing Record 11 of Set 8 | esil\n",
      "Processing Record 12 of Set 8 | laje\n",
      "Processing Record 13 of Set 8 | goryachegorsk\n",
      "Processing Record 14 of Set 8 | hovd\n",
      "Processing Record 15 of Set 8 | erzin\n",
      "City not found. Skipping...\n",
      "Processing Record 16 of Set 8 | rebrikha\n",
      "Processing Record 17 of Set 8 | krasnyy chikoy\n",
      "Processing Record 18 of Set 8 | gomel\n",
      "Processing Record 19 of Set 8 | altoona\n",
      "Processing Record 20 of Set 8 | mandali\n",
      "Processing Record 21 of Set 8 | ghanzi\n",
      "Processing Record 22 of Set 8 | port hedland\n",
      "Processing Record 23 of Set 8 | catalina foothills\n",
      "Processing Record 24 of Set 8 | oktyabrskiy\n",
      "City not found. Skipping...\n",
      "Processing Record 25 of Set 8 | rio grande\n",
      "City not found. Skipping...\n",
      "Processing Record 26 of Set 8 | clyde river\n",
      "Processing Record 27 of Set 8 | moba\n",
      "Processing Record 28 of Set 8 | chazuta\n",
      "Processing Record 29 of Set 8 | mahebourg\n",
      "Processing Record 30 of Set 8 | palmer\n",
      "Processing Record 31 of Set 8 | san vicente\n",
      "Processing Record 32 of Set 8 | vila franca do campo\n",
      "Processing Record 33 of Set 8 | bitung\n",
      "City not found. Skipping...\n",
      "Processing Record 34 of Set 8 | manado\n",
      "Processing Record 35 of Set 8 | klaksvik\n",
      "Processing Record 36 of Set 8 | hohhot\n"
     ]
    },
    {
     "name": "stdout",
     "output_type": "stream",
     "text": [
      "Processing Record 37 of Set 8 | coquimbo\n",
      "Processing Record 38 of Set 8 | geraldton\n",
      "Processing Record 39 of Set 8 | aykhal\n",
      "Processing Record 40 of Set 8 | sorrento\n",
      "City not found. Skipping...\n",
      "Processing Record 41 of Set 8 | spirit river\n",
      "Processing Record 42 of Set 8 | kenora\n",
      "Processing Record 43 of Set 8 | koster\n",
      "Processing Record 44 of Set 8 | port moresby\n",
      "Processing Record 45 of Set 8 | valparaiso\n",
      "Processing Record 46 of Set 8 | pedasi\n",
      "Processing Record 47 of Set 8 | kudahuvadhoo\n",
      "Processing Record 48 of Set 8 | kajaani\n",
      "Processing Record 49 of Set 8 | aripuana\n",
      "Processing Record 1 of Set 9 | pochutla\n",
      "Processing Record 2 of Set 9 | shahrud\n",
      "Processing Record 3 of Set 9 | hambantota\n",
      "Processing Record 4 of Set 9 | tupaciguara\n",
      "Processing Record 5 of Set 9 | san francisco\n",
      "Processing Record 6 of Set 9 | polczyn-zdroj\n",
      "Processing Record 7 of Set 9 | tasiilaq\n",
      "Processing Record 8 of Set 9 | cidreira\n",
      "Processing Record 9 of Set 9 | touros\n",
      "Processing Record 10 of Set 9 | baltasi\n",
      "Processing Record 11 of Set 9 | vijapur\n",
      "Processing Record 12 of Set 9 | chicama\n",
      "Processing Record 13 of Set 9 | adrar\n",
      "Processing Record 14 of Set 9 | grootfontein\n",
      "Processing Record 15 of Set 9 | rocha\n",
      "Processing Record 16 of Set 9 | smolenka\n",
      "Processing Record 17 of Set 9 | manga\n",
      "Processing Record 18 of Set 9 | portland\n",
      "Processing Record 19 of Set 9 | shevchenkove\n",
      "Processing Record 20 of Set 9 | bulungu\n",
      "Processing Record 21 of Set 9 | kautokeino\n",
      "Processing Record 22 of Set 9 | barra do corda\n",
      "City not found. Skipping...\n",
      "Processing Record 23 of Set 9 | cam ranh\n",
      "Processing Record 24 of Set 9 | kolvereid\n",
      "Processing Record 25 of Set 9 | stranraer\n",
      "City not found. Skipping...\n",
      "Processing Record 26 of Set 9 | zhuhai\n",
      "Processing Record 27 of Set 9 | general pico\n",
      "Processing Record 28 of Set 9 | saint-pierre\n",
      "Processing Record 29 of Set 9 | hasaki\n",
      "Processing Record 30 of Set 9 | huntsville\n",
      "City not found. Skipping...\n",
      "Processing Record 31 of Set 9 | uyuni\n",
      "Processing Record 32 of Set 9 | mananjary\n",
      "Processing Record 33 of Set 9 | moranbah\n",
      "Processing Record 34 of Set 9 | bonthe\n",
      "Processing Record 35 of Set 9 | wawa\n",
      "Processing Record 36 of Set 9 | ancud\n",
      "Processing Record 37 of Set 9 | goderich\n",
      "City not found. Skipping...\n",
      "Processing Record 38 of Set 9 | pasco\n",
      "Processing Record 39 of Set 9 | batsfjord\n",
      "Processing Record 40 of Set 9 | nagarote\n",
      "Processing Record 41 of Set 9 | griffith\n",
      "Processing Record 42 of Set 9 | nelson bay\n",
      "Processing Record 43 of Set 9 | avera\n",
      "Processing Record 44 of Set 9 | denia\n",
      "Processing Record 45 of Set 9 | peniche\n",
      "Processing Record 46 of Set 9 | dubti\n",
      "Processing Record 47 of Set 9 | mizdah\n",
      "City not found. Skipping...\n",
      "Processing Record 48 of Set 9 | cascais\n",
      "Processing Record 49 of Set 9 | choix\n",
      "Processing Record 1 of Set 10 | pemberton\n",
      "Processing Record 2 of Set 10 | pemba\n",
      "Processing Record 3 of Set 10 | konnur\n",
      "Processing Record 4 of Set 10 | panguna\n",
      "Processing Record 5 of Set 10 | monchegorsk\n",
      "Processing Record 6 of Set 10 | rameshki\n",
      "Processing Record 7 of Set 10 | port blair\n",
      "Processing Record 8 of Set 10 | napanee\n",
      "Processing Record 9 of Set 10 | poyarkovo\n",
      "Processing Record 10 of Set 10 | tiksi\n",
      "Processing Record 11 of Set 10 | san rafael\n",
      "Processing Record 12 of Set 10 | kangaatsiaq\n",
      "Processing Record 13 of Set 10 | puerto carreno\n",
      "Processing Record 14 of Set 10 | kaitong\n",
      "Processing Record 15 of Set 10 | saint george\n",
      "Processing Record 16 of Set 10 | gogrial\n",
      "Processing Record 17 of Set 10 | tianpeng\n",
      "Processing Record 18 of Set 10 | kushima\n",
      "Processing Record 19 of Set 10 | shushtar\n",
      "Processing Record 20 of Set 10 | buncrana\n",
      "Processing Record 21 of Set 10 | itaituba\n",
      "Processing Record 22 of Set 10 | san policarpo\n",
      "Processing Record 23 of Set 10 | kuopio\n",
      "Processing Record 24 of Set 10 | dobryanka\n",
      "Processing Record 25 of Set 10 | bria\n",
      "Processing Record 26 of Set 10 | calama\n",
      "Processing Record 27 of Set 10 | cabo san lucas\n",
      "Processing Record 28 of Set 10 | isangel\n",
      "Processing Record 29 of Set 10 | sungaipenuh\n",
      "Processing Record 30 of Set 10 | palmares do sul\n",
      "Processing Record 31 of Set 10 | bandarbeyla\n",
      "Processing Record 32 of Set 10 | ngunguru\n",
      "Processing Record 33 of Set 10 | oktyabrskoye\n",
      "Processing Record 34 of Set 10 | agirish\n",
      "Processing Record 35 of Set 10 | ostrovnoy\n",
      "Processing Record 36 of Set 10 | yar-sale\n",
      "Processing Record 37 of Set 10 | kruisfontein\n",
      "Processing Record 38 of Set 10 | cumberland\n",
      "Processing Record 39 of Set 10 | nchelenge\n",
      "Processing Record 40 of Set 10 | fare\n",
      "Processing Record 41 of Set 10 | ucluelet\n",
      "Processing Record 42 of Set 10 | orlik\n",
      "Processing Record 43 of Set 10 | menongue\n",
      "Processing Record 44 of Set 10 | eskisehir\n",
      "Processing Record 45 of Set 10 | qandala\n",
      "Processing Record 46 of Set 10 | cervo\n",
      "Processing Record 47 of Set 10 | clones\n",
      "Processing Record 48 of Set 10 | bestobe\n",
      "Processing Record 49 of Set 10 | boguchany\n",
      "Processing Record 1 of Set 11 | kijang\n",
      "Processing Record 2 of Set 11 | alice springs\n",
      "Processing Record 3 of Set 11 | auray\n",
      "Processing Record 4 of Set 11 | northam\n",
      "Processing Record 5 of Set 11 | san cristobal\n",
      "Processing Record 6 of Set 11 | constantine\n",
      "Processing Record 7 of Set 11 | pisco\n",
      "Processing Record 8 of Set 11 | najran\n",
      "Processing Record 9 of Set 11 | baturaja\n",
      "Processing Record 10 of Set 11 | kotelnich\n",
      "City not found. Skipping...\n",
      "Processing Record 11 of Set 11 | karratha\n",
      "Processing Record 12 of Set 11 | vysokogornyy\n",
      "Processing Record 13 of Set 11 | maltahohe\n",
      "Processing Record 14 of Set 11 | muros\n",
      "Processing Record 15 of Set 11 | tirur\n",
      "Processing Record 16 of Set 11 | gornyy\n",
      "Processing Record 17 of Set 11 | aba\n",
      "Processing Record 18 of Set 11 | morant bay\n",
      "Processing Record 19 of Set 11 | panguipulli\n",
      "Processing Record 20 of Set 11 | benicarlo\n",
      "Processing Record 21 of Set 11 | benghazi\n",
      "Processing Record 22 of Set 11 | tiznit\n",
      "Processing Record 23 of Set 11 | santa comba\n",
      "Processing Record 24 of Set 11 | esso\n",
      "Processing Record 25 of Set 11 | san patricio\n",
      "Processing Record 26 of Set 11 | paamiut\n",
      "Processing Record 27 of Set 11 | umm kaddadah\n",
      "Processing Record 28 of Set 11 | matara\n",
      "Processing Record 29 of Set 11 | umm lajj\n",
      "Processing Record 30 of Set 11 | bossangoa\n",
      "Processing Record 31 of Set 11 | sibolga\n",
      "Processing Record 32 of Set 11 | moussoro\n",
      "Processing Record 33 of Set 11 | kavieng\n",
      "Processing Record 34 of Set 11 | kathu\n",
      "Processing Record 35 of Set 11 | linqing\n",
      "Processing Record 36 of Set 11 | el dorado\n",
      "Processing Record 37 of Set 11 | juquitiba\n",
      "Processing Record 38 of Set 11 | matay\n",
      "Processing Record 39 of Set 11 | lompoc\n",
      "Processing Record 40 of Set 11 | yamethin\n",
      "City not found. Skipping...\n",
      "Processing Record 41 of Set 11 | waterford\n",
      "Processing Record 42 of Set 11 | astana\n",
      "Processing Record 43 of Set 11 | belaya gora\n",
      "Processing Record 44 of Set 11 | kavarskas\n",
      "Processing Record 45 of Set 11 | marsa matruh\n",
      "Processing Record 46 of Set 11 | roma\n",
      "Processing Record 47 of Set 11 | borovoy\n",
      "Processing Record 48 of Set 11 | emba\n",
      "Processing Record 49 of Set 11 | norman wells\n",
      "Processing Record 1 of Set 12 | la brea\n",
      "Processing Record 2 of Set 12 | truth or consequences\n",
      "Processing Record 3 of Set 12 | dzilam gonzalez\n",
      "Processing Record 4 of Set 12 | davila\n",
      "Processing Record 5 of Set 12 | constitucion\n",
      "Processing Record 6 of Set 12 | shingu\n",
      "Processing Record 7 of Set 12 | moyale\n",
      "Processing Record 8 of Set 12 | airai\n",
      "Processing Record 9 of Set 12 | thongwa\n",
      "Processing Record 10 of Set 12 | mabay\n",
      "Processing Record 11 of Set 12 | puerto escondido\n",
      "Processing Record 12 of Set 12 | akhaldaba\n",
      "Processing Record 13 of Set 12 | ndola\n",
      "Processing Record 14 of Set 12 | druskininkai\n",
      "City not found. Skipping...\n",
      "Processing Record 15 of Set 12 | necochea\n",
      "Processing Record 16 of Set 12 | dalianwan\n",
      "Processing Record 17 of Set 12 | panji\n",
      "Processing Record 18 of Set 12 | pocatello\n",
      "Processing Record 19 of Set 12 | batagay-alyta\n",
      "Processing Record 20 of Set 12 | mount gambier\n",
      "Processing Record 21 of Set 12 | visnes\n",
      "Processing Record 22 of Set 12 | kindu\n",
      "City not found. Skipping...\n",
      "Processing Record 23 of Set 12 | revelstoke\n",
      "Processing Record 24 of Set 12 | the valley\n",
      "Processing Record 25 of Set 12 | sarkand\n",
      "Processing Record 26 of Set 12 | barabash\n",
      "Processing Record 27 of Set 12 | korla\n",
      "Processing Record 28 of Set 12 | nuuk\n",
      "Processing Record 29 of Set 12 | santa rosa\n",
      "Processing Record 30 of Set 12 | kabanjahe\n"
     ]
    },
    {
     "name": "stdout",
     "output_type": "stream",
     "text": [
      "Processing Record 31 of Set 12 | ayan\n",
      "City not found. Skipping...\n",
      "Processing Record 32 of Set 12 | fort walton beach\n",
      "Processing Record 33 of Set 12 | miri\n",
      "Processing Record 34 of Set 12 | coari\n",
      "Processing Record 35 of Set 12 | henties bay\n",
      "Processing Record 36 of Set 12 | santo antonio do monte\n",
      "Processing Record 37 of Set 12 | varkaus\n",
      "Processing Record 38 of Set 12 | niamey\n",
      "Processing Record 39 of Set 12 | lagoa\n",
      "------------------------------\n",
      "\n",
      "Data Retrieval Complete\n",
      "\n",
      "------------------------------\n",
      "\n"
     ]
    }
   ],
   "source": [
    "#city_data = { }\n",
    "# data we need for dataframe in the next steps based on api order\n",
    "lats = []\n",
    "longs = []\n",
    "temp_maxes = []\n",
    "humidities = []\n",
    "dates = []\n",
    "wind_speeds = []\n",
    "cloudiness = []\n",
    "countries = []\n",
    "city_data = []\n",
    "temp_units = \"imperial\"\n",
    "#i = 0\n",
    "# keep a track of count\n",
    "city_count_curr = 0\n",
    "set_count = 1\n",
    "for city in cities:\n",
    "    target_url = (\"http://api.openweathermap.org/data/2.5/weather?q={0}&appid={1}&units={2}\").format(city, weather_api_key, \n",
    "                                                                                                     temp_units)\n",
    "    #city_data[i] = requests.get(target_url).json() \n",
    "    #print(\"Processing City: \"+str(i)+\"| City Name: \"+city)\n",
    "    #i +=1\n",
    "    try:\n",
    "        response = requests.get(target_url).json() \n",
    "        lats.append(response['coord']['lat'])\n",
    "        longs.append(response['coord']['lon'])\n",
    "        temp_maxes.append(response['main']['temp_max'])\n",
    "        humidities.append(response['main']['humidity'])\n",
    "        dates.append(response['dt'])\n",
    "        wind_speeds.append(response['wind']['speed'])\n",
    "        cloudiness.append(response['clouds']['all'])\n",
    "        countries.append(response['sys']['country'])\n",
    "        if city_count_curr > 48:\n",
    "            city_count_curr = 1\n",
    "            set_count += 1\n",
    "            city_data.append(city)\n",
    "        else:\n",
    "            city_count_curr += 1\n",
    "            city_data.append(city)\n",
    "        print(f\"Processing Record {city_count_curr} of Set {set_count} | {city}\")\n",
    "    except Exception:\n",
    "        print(f\"City not found. Skipping...\")\n",
    "print(\"------------------------------\\n\")\n",
    "print(\"Data Retrieval Complete\\n\")\n",
    "print(\"------------------------------\\n\")"
   ]
  },
  {
   "cell_type": "markdown",
   "metadata": {},
   "source": [
    "### Convert Raw Data to DataFrame\n",
    "* Export the city data into a .csv.\n",
    "* Display the DataFrame"
   ]
  },
  {
   "cell_type": "code",
   "execution_count": 232,
   "metadata": {},
   "outputs": [
    {
     "data": {
      "text/html": [
       "<div>\n",
       "<style scoped>\n",
       "    .dataframe tbody tr th:only-of-type {\n",
       "        vertical-align: middle;\n",
       "    }\n",
       "\n",
       "    .dataframe tbody tr th {\n",
       "        vertical-align: top;\n",
       "    }\n",
       "\n",
       "    .dataframe thead th {\n",
       "        text-align: right;\n",
       "    }\n",
       "</style>\n",
       "<table border=\"1\" class=\"dataframe\">\n",
       "  <thead>\n",
       "    <tr style=\"text-align: right;\">\n",
       "      <th></th>\n",
       "      <th>City</th>\n",
       "      <th>Lat</th>\n",
       "      <th>Lng</th>\n",
       "      <th>Max Temp</th>\n",
       "      <th>Humidity</th>\n",
       "      <th>Cloudiness</th>\n",
       "      <th>Wind Speed</th>\n",
       "      <th>Country</th>\n",
       "      <th>Date</th>\n",
       "    </tr>\n",
       "  </thead>\n",
       "  <tbody>\n",
       "    <tr>\n",
       "      <th>0</th>\n",
       "      <td>egvekinot</td>\n",
       "      <td>66.32</td>\n",
       "      <td>-179.17</td>\n",
       "      <td>18.91</td>\n",
       "      <td>94</td>\n",
       "      <td>58</td>\n",
       "      <td>9.19</td>\n",
       "      <td>RU</td>\n",
       "      <td>1603793622</td>\n",
       "    </tr>\n",
       "    <tr>\n",
       "      <th>1</th>\n",
       "      <td>kapaa</td>\n",
       "      <td>22.08</td>\n",
       "      <td>-159.32</td>\n",
       "      <td>69.80</td>\n",
       "      <td>88</td>\n",
       "      <td>40</td>\n",
       "      <td>6.93</td>\n",
       "      <td>US</td>\n",
       "      <td>1603793574</td>\n",
       "    </tr>\n",
       "    <tr>\n",
       "      <th>2</th>\n",
       "      <td>bairiki</td>\n",
       "      <td>1.33</td>\n",
       "      <td>172.98</td>\n",
       "      <td>80.60</td>\n",
       "      <td>78</td>\n",
       "      <td>20</td>\n",
       "      <td>6.93</td>\n",
       "      <td>KI</td>\n",
       "      <td>1603793622</td>\n",
       "    </tr>\n",
       "    <tr>\n",
       "      <th>3</th>\n",
       "      <td>esperance</td>\n",
       "      <td>-33.87</td>\n",
       "      <td>121.90</td>\n",
       "      <td>66.20</td>\n",
       "      <td>68</td>\n",
       "      <td>0</td>\n",
       "      <td>17.22</td>\n",
       "      <td>AU</td>\n",
       "      <td>1603793622</td>\n",
       "    </tr>\n",
       "    <tr>\n",
       "      <th>4</th>\n",
       "      <td>jamestown</td>\n",
       "      <td>42.10</td>\n",
       "      <td>-79.24</td>\n",
       "      <td>42.01</td>\n",
       "      <td>100</td>\n",
       "      <td>90</td>\n",
       "      <td>5.82</td>\n",
       "      <td>US</td>\n",
       "      <td>1603793622</td>\n",
       "    </tr>\n",
       "  </tbody>\n",
       "</table>\n",
       "</div>"
      ],
      "text/plain": [
       "        City    Lat     Lng  Max Temp  Humidity  Cloudiness  Wind Speed  \\\n",
       "0  egvekinot  66.32 -179.17     18.91        94          58        9.19   \n",
       "1      kapaa  22.08 -159.32     69.80        88          40        6.93   \n",
       "2    bairiki   1.33  172.98     80.60        78          20        6.93   \n",
       "3  esperance -33.87  121.90     66.20        68           0       17.22   \n",
       "4  jamestown  42.10  -79.24     42.01       100          90        5.82   \n",
       "\n",
       "  Country        Date  \n",
       "0      RU  1603793622  \n",
       "1      US  1603793574  \n",
       "2      KI  1603793622  \n",
       "3      AU  1603793622  \n",
       "4      US  1603793622  "
      ]
     },
     "execution_count": 232,
     "metadata": {},
     "output_type": "execute_result"
    }
   ],
   "source": [
    "# Create a dict of the lists\n",
    "weather_dict = {\n",
    "    \"City\":city_data,\n",
    "    \"Lat\":lats,\n",
    "    \"Lng\":longs,\n",
    "    \"Max Temp\":temp_maxes,\n",
    "    \"Humidity\":humidities,\n",
    "    \"Cloudiness\":cloudiness,\n",
    "    \"Wind Speed\":wind_speeds,\n",
    "    \"Country\":countries,\n",
    "    \"Date\":dates\n",
    "}\n",
    "\n",
    "# Build and display dataframe\n",
    "weather_df = pd.DataFrame(weather_dict)\n",
    "weather_df = weather_df.dropna()\n",
    "weather_df.head()"
   ]
  },
  {
   "cell_type": "code",
   "execution_count": 233,
   "metadata": {},
   "outputs": [
    {
     "data": {
      "text/html": [
       "<div>\n",
       "<style scoped>\n",
       "    .dataframe tbody tr th:only-of-type {\n",
       "        vertical-align: middle;\n",
       "    }\n",
       "\n",
       "    .dataframe tbody tr th {\n",
       "        vertical-align: top;\n",
       "    }\n",
       "\n",
       "    .dataframe thead th {\n",
       "        text-align: right;\n",
       "    }\n",
       "</style>\n",
       "<table border=\"1\" class=\"dataframe\">\n",
       "  <thead>\n",
       "    <tr style=\"text-align: right;\">\n",
       "      <th></th>\n",
       "      <th>Lat</th>\n",
       "      <th>Lng</th>\n",
       "      <th>Max Temp</th>\n",
       "      <th>Humidity</th>\n",
       "      <th>Cloudiness</th>\n",
       "      <th>Wind Speed</th>\n",
       "      <th>Date</th>\n",
       "    </tr>\n",
       "  </thead>\n",
       "  <tbody>\n",
       "    <tr>\n",
       "      <th>count</th>\n",
       "      <td>578.000000</td>\n",
       "      <td>578.000000</td>\n",
       "      <td>578.000000</td>\n",
       "      <td>578.00000</td>\n",
       "      <td>578.000000</td>\n",
       "      <td>578.000000</td>\n",
       "      <td>5.780000e+02</td>\n",
       "    </tr>\n",
       "    <tr>\n",
       "      <th>mean</th>\n",
       "      <td>20.380813</td>\n",
       "      <td>19.490830</td>\n",
       "      <td>60.525606</td>\n",
       "      <td>71.33218</td>\n",
       "      <td>52.217993</td>\n",
       "      <td>7.755830</td>\n",
       "      <td>1.603794e+09</td>\n",
       "    </tr>\n",
       "    <tr>\n",
       "      <th>std</th>\n",
       "      <td>32.866068</td>\n",
       "      <td>88.675705</td>\n",
       "      <td>22.824888</td>\n",
       "      <td>23.43538</td>\n",
       "      <td>39.228490</td>\n",
       "      <td>5.161706</td>\n",
       "      <td>6.231966e+01</td>\n",
       "    </tr>\n",
       "    <tr>\n",
       "      <th>min</th>\n",
       "      <td>-54.800000</td>\n",
       "      <td>-179.170000</td>\n",
       "      <td>-4.000000</td>\n",
       "      <td>1.00000</td>\n",
       "      <td>0.000000</td>\n",
       "      <td>0.200000</td>\n",
       "      <td>1.603793e+09</td>\n",
       "    </tr>\n",
       "    <tr>\n",
       "      <th>25%</th>\n",
       "      <td>-6.197500</td>\n",
       "      <td>-58.372500</td>\n",
       "      <td>46.000000</td>\n",
       "      <td>63.00000</td>\n",
       "      <td>9.000000</td>\n",
       "      <td>3.580000</td>\n",
       "      <td>1.603794e+09</td>\n",
       "    </tr>\n",
       "    <tr>\n",
       "      <th>50%</th>\n",
       "      <td>24.695000</td>\n",
       "      <td>22.860000</td>\n",
       "      <td>64.200000</td>\n",
       "      <td>78.00000</td>\n",
       "      <td>56.000000</td>\n",
       "      <td>6.930000</td>\n",
       "      <td>1.603794e+09</td>\n",
       "    </tr>\n",
       "    <tr>\n",
       "      <th>75%</th>\n",
       "      <td>48.490000</td>\n",
       "      <td>97.570000</td>\n",
       "      <td>79.387500</td>\n",
       "      <td>88.00000</td>\n",
       "      <td>90.000000</td>\n",
       "      <td>10.740000</td>\n",
       "      <td>1.603794e+09</td>\n",
       "    </tr>\n",
       "    <tr>\n",
       "      <th>max</th>\n",
       "      <td>78.220000</td>\n",
       "      <td>179.320000</td>\n",
       "      <td>106.990000</td>\n",
       "      <td>100.00000</td>\n",
       "      <td>100.000000</td>\n",
       "      <td>31.340000</td>\n",
       "      <td>1.603794e+09</td>\n",
       "    </tr>\n",
       "  </tbody>\n",
       "</table>\n",
       "</div>"
      ],
      "text/plain": [
       "              Lat         Lng    Max Temp   Humidity  Cloudiness  Wind Speed  \\\n",
       "count  578.000000  578.000000  578.000000  578.00000  578.000000  578.000000   \n",
       "mean    20.380813   19.490830   60.525606   71.33218   52.217993    7.755830   \n",
       "std     32.866068   88.675705   22.824888   23.43538   39.228490    5.161706   \n",
       "min    -54.800000 -179.170000   -4.000000    1.00000    0.000000    0.200000   \n",
       "25%     -6.197500  -58.372500   46.000000   63.00000    9.000000    3.580000   \n",
       "50%     24.695000   22.860000   64.200000   78.00000   56.000000    6.930000   \n",
       "75%     48.490000   97.570000   79.387500   88.00000   90.000000   10.740000   \n",
       "max     78.220000  179.320000  106.990000  100.00000  100.000000   31.340000   \n",
       "\n",
       "               Date  \n",
       "count  5.780000e+02  \n",
       "mean   1.603794e+09  \n",
       "std    6.231966e+01  \n",
       "min    1.603793e+09  \n",
       "25%    1.603794e+09  \n",
       "50%    1.603794e+09  \n",
       "75%    1.603794e+09  \n",
       "max    1.603794e+09  "
      ]
     },
     "execution_count": 233,
     "metadata": {},
     "output_type": "execute_result"
    }
   ],
   "source": [
    "# Export data to csv\n",
    "weather_df.to_csv(output_data_file)\n",
    "\n",
    "# statistical information for weather_df\n",
    "weather_df.describe()"
   ]
  },
  {
   "cell_type": "markdown",
   "metadata": {},
   "source": [
    "## Inspect the data and remove the cities where the humidity > 100%.\n",
    "----\n",
    "Skip this step if there are no cities that have humidity > 100%. "
   ]
  },
  {
   "cell_type": "code",
   "execution_count": 234,
   "metadata": {},
   "outputs": [
    {
     "data": {
      "text/html": [
       "<div>\n",
       "<style scoped>\n",
       "    .dataframe tbody tr th:only-of-type {\n",
       "        vertical-align: middle;\n",
       "    }\n",
       "\n",
       "    .dataframe tbody tr th {\n",
       "        vertical-align: top;\n",
       "    }\n",
       "\n",
       "    .dataframe thead th {\n",
       "        text-align: right;\n",
       "    }\n",
       "</style>\n",
       "<table border=\"1\" class=\"dataframe\">\n",
       "  <thead>\n",
       "    <tr style=\"text-align: right;\">\n",
       "      <th></th>\n",
       "      <th>Lat</th>\n",
       "      <th>Lng</th>\n",
       "      <th>Max Temp</th>\n",
       "      <th>Humidity</th>\n",
       "      <th>Cloudiness</th>\n",
       "      <th>Wind Speed</th>\n",
       "      <th>Date</th>\n",
       "    </tr>\n",
       "  </thead>\n",
       "  <tbody>\n",
       "    <tr>\n",
       "      <th>count</th>\n",
       "      <td>555.000000</td>\n",
       "      <td>555.000000</td>\n",
       "      <td>555.000000</td>\n",
       "      <td>555.000000</td>\n",
       "      <td>555.000000</td>\n",
       "      <td>555.000000</td>\n",
       "      <td>5.550000e+02</td>\n",
       "    </tr>\n",
       "    <tr>\n",
       "      <th>mean</th>\n",
       "      <td>20.265297</td>\n",
       "      <td>22.255820</td>\n",
       "      <td>60.776829</td>\n",
       "      <td>70.144144</td>\n",
       "      <td>51.293694</td>\n",
       "      <td>7.846432</td>\n",
       "      <td>1.603794e+09</td>\n",
       "    </tr>\n",
       "    <tr>\n",
       "      <th>std</th>\n",
       "      <td>32.891161</td>\n",
       "      <td>88.386603</td>\n",
       "      <td>23.111543</td>\n",
       "      <td>23.162137</td>\n",
       "      <td>39.337316</td>\n",
       "      <td>5.204880</td>\n",
       "      <td>6.259044e+01</td>\n",
       "    </tr>\n",
       "    <tr>\n",
       "      <th>min</th>\n",
       "      <td>-54.800000</td>\n",
       "      <td>-179.170000</td>\n",
       "      <td>-4.000000</td>\n",
       "      <td>1.000000</td>\n",
       "      <td>0.000000</td>\n",
       "      <td>0.200000</td>\n",
       "      <td>1.603793e+09</td>\n",
       "    </tr>\n",
       "    <tr>\n",
       "      <th>25%</th>\n",
       "      <td>-6.175000</td>\n",
       "      <td>-53.565000</td>\n",
       "      <td>46.200000</td>\n",
       "      <td>62.000000</td>\n",
       "      <td>8.000000</td>\n",
       "      <td>3.800000</td>\n",
       "      <td>1.603794e+09</td>\n",
       "    </tr>\n",
       "    <tr>\n",
       "      <th>50%</th>\n",
       "      <td>24.340000</td>\n",
       "      <td>25.000000</td>\n",
       "      <td>64.540000</td>\n",
       "      <td>77.000000</td>\n",
       "      <td>52.000000</td>\n",
       "      <td>6.930000</td>\n",
       "      <td>1.603794e+09</td>\n",
       "    </tr>\n",
       "    <tr>\n",
       "      <th>75%</th>\n",
       "      <td>48.830000</td>\n",
       "      <td>98.650000</td>\n",
       "      <td>79.960000</td>\n",
       "      <td>87.000000</td>\n",
       "      <td>90.000000</td>\n",
       "      <td>10.930000</td>\n",
       "      <td>1.603794e+09</td>\n",
       "    </tr>\n",
       "    <tr>\n",
       "      <th>max</th>\n",
       "      <td>78.220000</td>\n",
       "      <td>179.320000</td>\n",
       "      <td>106.990000</td>\n",
       "      <td>99.000000</td>\n",
       "      <td>100.000000</td>\n",
       "      <td>31.340000</td>\n",
       "      <td>1.603794e+09</td>\n",
       "    </tr>\n",
       "  </tbody>\n",
       "</table>\n",
       "</div>"
      ],
      "text/plain": [
       "              Lat         Lng    Max Temp    Humidity  Cloudiness  Wind Speed  \\\n",
       "count  555.000000  555.000000  555.000000  555.000000  555.000000  555.000000   \n",
       "mean    20.265297   22.255820   60.776829   70.144144   51.293694    7.846432   \n",
       "std     32.891161   88.386603   23.111543   23.162137   39.337316    5.204880   \n",
       "min    -54.800000 -179.170000   -4.000000    1.000000    0.000000    0.200000   \n",
       "25%     -6.175000  -53.565000   46.200000   62.000000    8.000000    3.800000   \n",
       "50%     24.340000   25.000000   64.540000   77.000000   52.000000    6.930000   \n",
       "75%     48.830000   98.650000   79.960000   87.000000   90.000000   10.930000   \n",
       "max     78.220000  179.320000  106.990000   99.000000  100.000000   31.340000   \n",
       "\n",
       "               Date  \n",
       "count  5.550000e+02  \n",
       "mean   1.603794e+09  \n",
       "std    6.259044e+01  \n",
       "min    1.603793e+09  \n",
       "25%    1.603794e+09  \n",
       "50%    1.603794e+09  \n",
       "75%    1.603794e+09  \n",
       "max    1.603794e+09  "
      ]
     },
     "execution_count": 234,
     "metadata": {},
     "output_type": "execute_result"
    }
   ],
   "source": [
    "weather_df_humid_mod = weather_df.query('Humidity < 100')\n",
    "weather_df_humid_mod.describe()"
   ]
  },
  {
   "cell_type": "code",
   "execution_count": 170,
   "metadata": {},
   "outputs": [],
   "source": [
    "#  Get the indices of cities that have humidity over 100%.\n",
    "# Just did a query to remove all the humidity less than 100"
   ]
  },
  {
   "cell_type": "code",
   "execution_count": 171,
   "metadata": {},
   "outputs": [],
   "source": [
    "# Make a new DataFrame equal to the city data to drop all humidity outliers by index.\n",
    "# Passing \"inplace=False\" will make a copy of the city_data DataFrame, which we call \"clean_city_data\".\n"
   ]
  },
  {
   "cell_type": "code",
   "execution_count": 235,
   "metadata": {},
   "outputs": [
    {
     "data": {
      "text/html": [
       "<div>\n",
       "<style scoped>\n",
       "    .dataframe tbody tr th:only-of-type {\n",
       "        vertical-align: middle;\n",
       "    }\n",
       "\n",
       "    .dataframe tbody tr th {\n",
       "        vertical-align: top;\n",
       "    }\n",
       "\n",
       "    .dataframe thead th {\n",
       "        text-align: right;\n",
       "    }\n",
       "</style>\n",
       "<table border=\"1\" class=\"dataframe\">\n",
       "  <thead>\n",
       "    <tr style=\"text-align: right;\">\n",
       "      <th></th>\n",
       "      <th>City</th>\n",
       "      <th>Lat</th>\n",
       "      <th>Lng</th>\n",
       "      <th>Max Temp</th>\n",
       "      <th>Humidity</th>\n",
       "      <th>Cloudiness</th>\n",
       "      <th>Wind Speed</th>\n",
       "      <th>Country</th>\n",
       "      <th>Date</th>\n",
       "    </tr>\n",
       "  </thead>\n",
       "  <tbody>\n",
       "    <tr>\n",
       "      <th>0</th>\n",
       "      <td>egvekinot</td>\n",
       "      <td>66.32</td>\n",
       "      <td>-179.17</td>\n",
       "      <td>18.91</td>\n",
       "      <td>94</td>\n",
       "      <td>58</td>\n",
       "      <td>9.19</td>\n",
       "      <td>RU</td>\n",
       "      <td>1603793622</td>\n",
       "    </tr>\n",
       "    <tr>\n",
       "      <th>1</th>\n",
       "      <td>kapaa</td>\n",
       "      <td>22.08</td>\n",
       "      <td>-159.32</td>\n",
       "      <td>69.80</td>\n",
       "      <td>88</td>\n",
       "      <td>40</td>\n",
       "      <td>6.93</td>\n",
       "      <td>US</td>\n",
       "      <td>1603793574</td>\n",
       "    </tr>\n",
       "    <tr>\n",
       "      <th>2</th>\n",
       "      <td>bairiki</td>\n",
       "      <td>1.33</td>\n",
       "      <td>172.98</td>\n",
       "      <td>80.60</td>\n",
       "      <td>78</td>\n",
       "      <td>20</td>\n",
       "      <td>6.93</td>\n",
       "      <td>KI</td>\n",
       "      <td>1603793622</td>\n",
       "    </tr>\n",
       "    <tr>\n",
       "      <th>3</th>\n",
       "      <td>esperance</td>\n",
       "      <td>-33.87</td>\n",
       "      <td>121.90</td>\n",
       "      <td>66.20</td>\n",
       "      <td>68</td>\n",
       "      <td>0</td>\n",
       "      <td>17.22</td>\n",
       "      <td>AU</td>\n",
       "      <td>1603793622</td>\n",
       "    </tr>\n",
       "    <tr>\n",
       "      <th>5</th>\n",
       "      <td>nanortalik</td>\n",
       "      <td>60.14</td>\n",
       "      <td>-45.24</td>\n",
       "      <td>30.24</td>\n",
       "      <td>91</td>\n",
       "      <td>1</td>\n",
       "      <td>15.86</td>\n",
       "      <td>GL</td>\n",
       "      <td>1603793623</td>\n",
       "    </tr>\n",
       "  </tbody>\n",
       "</table>\n",
       "</div>"
      ],
      "text/plain": [
       "         City    Lat     Lng  Max Temp  Humidity  Cloudiness  Wind Speed  \\\n",
       "0   egvekinot  66.32 -179.17     18.91        94          58        9.19   \n",
       "1       kapaa  22.08 -159.32     69.80        88          40        6.93   \n",
       "2     bairiki   1.33  172.98     80.60        78          20        6.93   \n",
       "3   esperance -33.87  121.90     66.20        68           0       17.22   \n",
       "5  nanortalik  60.14  -45.24     30.24        91           1       15.86   \n",
       "\n",
       "  Country        Date  \n",
       "0      RU  1603793622  \n",
       "1      US  1603793574  \n",
       "2      KI  1603793622  \n",
       "3      AU  1603793622  \n",
       "5      GL  1603793623  "
      ]
     },
     "execution_count": 235,
     "metadata": {},
     "output_type": "execute_result"
    }
   ],
   "source": [
    "weather_df_humid_mod.head()\n"
   ]
  },
  {
   "cell_type": "markdown",
   "metadata": {},
   "source": [
    "## Plotting the Data\n",
    "* Use proper labeling of the plots using plot titles (including date of analysis) and axes labels.\n",
    "* Save the plotted figures as .pngs."
   ]
  },
  {
   "cell_type": "markdown",
   "metadata": {},
   "source": [
    "## Latitude vs. Temperature Plot"
   ]
  },
  {
   "cell_type": "code",
   "execution_count": 236,
   "metadata": {
    "scrolled": true
   },
   "outputs": [
    {
     "data": {
      "image/png": "[encoded data removed]",
      "text/plain": [
       "<Figure size 432x288 with 1 Axes>"
      ]
     },
     "metadata": {
      "needs_background": "light"
     },
     "output_type": "display_data"
    }
   ],
   "source": [
    "# Lat vs Max Temp\n",
    "plt.scatter(weather_df_humid_mod[\"Lat\"], weather_df_humid_mod[\"Max Temp\"], edgecolors=\"black\", facecolors=\"skyblue\")\n",
    "plt.title(\"City Latitude vs. Max Temperature (10/25/20)\")\n",
    "plt.xlabel(\"Latitude\")\n",
    "plt.ylabel(\"Max Temperature (F)\")\n",
    "plt.grid (b=True, which=\"major\", axis=\"both\", linestyle=\"-\", color=\"lightgrey\")\n",
    "plt.savefig(\"../output_data/Fig1.png\")\n"
   ]
  },
  {
   "cell_type": "markdown",
   "metadata": {},
   "source": [
    "## Latitude vs. Humidity Plot"
   ]
  },
  {
   "cell_type": "code",
   "execution_count": 237,
   "metadata": {},
   "outputs": [
    {
     "data": {
      "image/png": "[encoded data removed]",
      "text/plain": [
       "<Figure size 432x288 with 1 Axes>"
      ]
     },
     "metadata": {
      "needs_background": "light"
     },
     "output_type": "display_data"
    }
   ],
   "source": [
    "# Lat vs Humidity\n",
    "plt.scatter(weather_df_humid_mod[\"Lat\"], weather_df_humid_mod[\"Humidity\"], edgecolors=\"black\", facecolors=\"skyblue\")\n",
    "plt.title(\"City Latitude vs. Humidity (10/25/20)\")\n",
    "plt.xlabel(\"Latitude\")\n",
    "plt.ylabel(\"Humidity (%)\")\n",
    "plt.grid (b=True, which=\"major\", axis=\"both\", linestyle=\"-\", color=\"lightgrey\")\n",
    "plt.savefig(\"../output_data/Fig2.png\")\n"
   ]
  },
  {
   "cell_type": "markdown",
   "metadata": {},
   "source": [
    "## Latitude vs. Cloudiness Plot"
   ]
  },
  {
   "cell_type": "code",
   "execution_count": 238,
   "metadata": {},
   "outputs": [
    {
     "data": {
      "image/png": "[encoded data removed]",
      "text/plain": [
       "<Figure size 432x288 with 1 Axes>"
      ]
     },
     "metadata": {
      "needs_background": "light"
     },
     "output_type": "display_data"
    }
   ],
   "source": [
    "# Lat vs Cloudiness\n",
    "plt.scatter(weather_df_humid_mod[\"Lat\"], weather_df_humid_mod[\"Cloudiness\"], edgecolors=\"black\", facecolors=\"skyblue\")\n",
    "plt.title(\"City Latitude vs. Cloudiness (10/25/20)\")\n",
    "plt.xlabel(\"Latitude\")\n",
    "plt.ylabel(\"Cloudiness (%)\")\n",
    "plt.grid (b=True, which=\"major\", axis=\"both\", linestyle=\"-\", color=\"lightgrey\")\n",
    "plt.savefig(\"../output_data/Fig3.png\")\n"
   ]
  },
  {
   "cell_type": "markdown",
   "metadata": {},
   "source": [
    "## Latitude vs. Wind Speed Plot"
   ]
  },
  {
   "cell_type": "code",
   "execution_count": 239,
   "metadata": {},
   "outputs": [
    {
     "data": {
      "image/png": "[encoded data removed]",
      "text/plain": [
       "<Figure size 432x288 with 1 Axes>"
      ]
     },
     "metadata": {
      "needs_background": "light"
     },
     "output_type": "display_data"
    }
   ],
   "source": [
    "# Lat vs Wind Speed\n",
    "plt.scatter(weather_df_humid_mod[\"Lat\"], weather_df_humid_mod[\"Wind Speed\"], edgecolors=\"black\", facecolors=\"skyblue\")\n",
    "plt.title(\"City Latitude vs. Humidity (10/25/20)\")\n",
    "plt.xlabel(\"Latitude\")\n",
    "plt.ylabel(\"Wind Speed (mph)\")\n",
    "plt.grid (b=True, which=\"major\", axis=\"both\", linestyle=\"-\", color=\"lightgrey\")\n",
    "plt.savefig(\"../output_data/Fig4.png\")"
   ]
  },
  {
   "cell_type": "markdown",
   "metadata": {},
   "source": [
    "## Linear Regression"
   ]
  },
  {
   "cell_type": "code",
   "execution_count": 240,
   "metadata": {},
   "outputs": [],
   "source": [
    "# We need northern hemisphere and souther hemisphere\n",
    "north_hemis_df = weather_df_humid_mod.loc[pd.to_numeric(weather_df_humid_mod[\"Lat\"]).astype(float) > 0, :]\n",
    "south_hemis_df = weather_df_humid_mod.loc[pd.to_numeric(weather_df_humid_mod[\"Lat\"]).astype(float) < 0, :]"
   ]
  },
  {
   "cell_type": "markdown",
   "metadata": {},
   "source": [
    "####  Northern Hemisphere - Max Temp vs. Latitude Linear Regression"
   ]
  },
  {
   "cell_type": "code",
   "execution_count": 249,
   "metadata": {},
   "outputs": [
    {
     "name": "stdout",
     "output_type": "stream",
     "text": [
      "The regression line eq is: y = -1.07x + 97.2\n",
      "The r value is: -0.8713300984052367\n",
      "The regression plot has a nature of decreasing as well as its r value is negative so its a negative correlation.\n",
      "So that means in the northern hemisphere as you move away from the equator the temperature will decrease.\n"
     ]
    },
    {
     "data": {
      "image/png": "[encoded data removed]",
      "text/plain": [
       "<Figure size 432x288 with 1 Axes>"
      ]
     },
     "metadata": {
      "needs_background": "light"
     },
     "output_type": "display_data"
    },
    {
     "data": {
      "text/plain": [
       "<Figure size 432x288 with 0 Axes>"
      ]
     },
     "metadata": {},
     "output_type": "display_data"
    }
   ],
   "source": [
    "# North hemisphere plot\n",
    "x_val = pd.to_numeric(north_hemis_df[\"Lat\"]).astype(float)\n",
    "y_val = pd.to_numeric(north_hemis_df[\"Max Temp\"]).astype(float)\n",
    "(slope, intercept, rvalue, pvalue, stderr) = linregress(x_val, y_val)\n",
    "regress_values = x_val * slope + intercept\n",
    "line_eq = \"y = \" + str(round(slope, 2)) + \"x + \" + str(round(intercept, 2))\n",
    "print(f\"The regression line eq is: {line_eq}\")\n",
    "plt.scatter(x_val, y_val)\n",
    "plt.plot(x_val, regress_values, \"r-\")\n",
    "plt.annotate(line_eq,(6,10), fontsize=15, color=\"red\")\n",
    "plt.xlabel(\"Latitude\")\n",
    "plt.ylabel(\"Max Temp\")\n",
    "plt.title(\"Northern Hemisphere - Max Temp vs. Latitude Linear Regression\")\n",
    "print(f\"The r value is: {rvalue}\")\n",
    "print(\"The regression plot has a nature of decreasing as well as its r value is negative so its a negative correlation.\")\n",
    "print(\"So that means in the northern hemisphere as you move away from the equator the temperature will decrease.\")\n",
    "plt.show()\n",
    "plt.savefig(\"../output_data/Fig5.png\")"
   ]
  },
  {
   "cell_type": "markdown",
   "metadata": {},
   "source": [
    "####  Southern Hemisphere - Max Temp vs. Latitude Linear Regression"
   ]
  },
  {
   "cell_type": "code",
   "execution_count": 250,
   "metadata": {},
   "outputs": [
    {
     "name": "stdout",
     "output_type": "stream",
     "text": [
      "The regression line eq is: y = 0.67x + 85.8\n",
      "The r value is: 0.6638875677024291\n",
      "The regression plot has a nature of increasing as well as its r value is posiitve so its a positive correlation.\n",
      "So that means in the northern hemisphere as you get close to the equator the temperature will increase.\n"
     ]
    },
    {
     "data": {
      "image/png": "[encoded data removed]",
      "text/plain": [
       "<Figure size 432x288 with 1 Axes>"
      ]
     },
     "metadata": {
      "needs_background": "light"
     },
     "output_type": "display_data"
    },
    {
     "data": {
      "text/plain": [
       "<Figure size 432x288 with 0 Axes>"
      ]
     },
     "metadata": {},
     "output_type": "display_data"
    }
   ],
   "source": [
    "# Now for the south hemisphere\n",
    "x_val = pd.to_numeric(south_hemis_df[\"Lat\"]).astype(float)\n",
    "y_val = pd.to_numeric(south_hemis_df[\"Max Temp\"]).astype(float)\n",
    "(slope, intercept, rvalue, pvalue, stderr) = linregress(x_val, y_val)\n",
    "regress_values = x_val * slope + intercept\n",
    "line_eq = \"y = \" + str(round(slope, 2)) + \"x + \" + str(round(intercept, 2))\n",
    "print(f\"The regression line eq is: {line_eq}\")\n",
    "plt.scatter(x_val, y_val)\n",
    "plt.plot(x_val, regress_values, \"r-\")\n",
    "plt.annotate(line_eq, (6,10), fontsize=15, color=\"red\")\n",
    "plt.xlabel(\"Latitude\")\n",
    "plt.ylabel(\"Max Temp\")\n",
    "plt.title(\"Southern Hemisphere - Max Temp vs. Latitude Linear Regression\")\n",
    "print(f\"The r value is: {rvalue}\")\n",
    "print(\"The regression plot has a nature of increasing as well as its r value is posiitve so its a positive correlation.\")\n",
    "print(\"So that means in the northern hemisphere as you get close to the equator the temperature will increase.\")\n",
    "plt.show()\n",
    "plt.savefig(\"../output_data/Fig6.png\")"
   ]
  },
  {
   "cell_type": "markdown",
   "metadata": {},
   "source": [
    "####  Northern Hemisphere - Humidity (%) vs. Latitude Linear Regression"
   ]
  },
  {
   "cell_type": "code",
   "execution_count": 251,
   "metadata": {},
   "outputs": [
    {
     "name": "stdout",
     "output_type": "stream",
     "text": [
      "The regression line eq is: y = 0.37x + 56.08\n",
      "The r value is: 0.31077282736012796\n",
      "The regression plot does show a little bit of an increase but not enough to make a solid conclusion.\n",
      "So that means there isn't much of a correlation in this data set but if there is its a positive correlation.\n"
     ]
    },
    {
     "data": {
      "image/png": "[encoded data removed]",
      "text/plain": [
       "<Figure size 432x288 with 1 Axes>"
      ]
     },
     "metadata": {
      "needs_background": "light"
     },
     "output_type": "display_data"
    },
    {
     "data": {
      "text/plain": [
       "<Figure size 432x288 with 0 Axes>"
      ]
     },
     "metadata": {},
     "output_type": "display_data"
    }
   ],
   "source": [
    "# Now for the North hemisphere humidity\n",
    "x_val = pd.to_numeric(north_hemis_df[\"Lat\"]).astype(float)\n",
    "y_val = pd.to_numeric(north_hemis_df[\"Humidity\"]).astype(float)\n",
    "(slope, intercept, rvalue, pvalue, stderr) = linregress(x_val, y_val)\n",
    "regress_values = x_val * slope + intercept\n",
    "line_eq = \"y = \" + str(round(slope, 2)) + \"x + \" + str(round(intercept, 2))\n",
    "print(f\"The regression line eq is: {line_eq}\")\n",
    "plt.scatter(x_val, y_val)\n",
    "plt.plot(x_val, regress_values, \"r-\")\n",
    "plt.annotate(line_eq, (40,10), fontsize=15, color=\"red\")\n",
    "plt.xlabel(\"Latitude\")\n",
    "plt.ylabel(\"Humidity\")\n",
    "plt.title(\"Northern Hemisphere - Humidity (%) vs. Latitude Linear Regression\")\n",
    "print(f\"The r value is: {rvalue}\")\n",
    "print(\"The regression plot does show a little bit of an increase but not enough to make a solid conclusion.\")\n",
    "print(\"So that means there isn't much of a correlation in this data set but if there is its a positive correlation.\")\n",
    "plt.show()\n",
    "plt.savefig(\"../output_data/Fig7.png\")"
   ]
  },
  {
   "cell_type": "markdown",
   "metadata": {},
   "source": [
    "####  Southern Hemisphere - Humidity (%) vs. Latitude Linear Regression"
   ]
  },
  {
   "cell_type": "code",
   "execution_count": 252,
   "metadata": {},
   "outputs": [
    {
     "name": "stdout",
     "output_type": "stream",
     "text": [
      "The regression line eq is: y = 0.05x + 71.29\n",
      "The r value is: 0.03070787874036278\n",
      "The regression plot does show a little bit of an increase but not enough to make a solid conclusion.\n",
      "So that means there isn't much of a correlation in this data set but if there is its a positive correlation.\n"
     ]
    },
    {
     "data": {
      "image/png": "[encoded data removed]",
      "text/plain": [
       "<Figure size 432x288 with 1 Axes>"
      ]
     },
     "metadata": {
      "needs_background": "light"
     },
     "output_type": "display_data"
    },
    {
     "data": {
      "text/plain": [
       "<Figure size 432x288 with 0 Axes>"
      ]
     },
     "metadata": {},
     "output_type": "display_data"
    }
   ],
   "source": [
    "# Now for the South hemisphere humidity\n",
    "x_val = pd.to_numeric(south_hemis_df[\"Lat\"]).astype(float)\n",
    "y_val = pd.to_numeric(south_hemis_df[\"Humidity\"]).astype(float)\n",
    "(slope, intercept, rvalue, pvalue, stderr) = linregress(x_val, y_val)\n",
    "regress_values = x_val * slope + intercept\n",
    "line_eq = \"y = \" + str(round(slope, 2)) + \"x + \" + str(round(intercept, 2))\n",
    "print(f\"The regression line eq is: {line_eq}\")\n",
    "plt.scatter(x_val, y_val)\n",
    "plt.plot(x_val, regress_values, \"r-\")\n",
    "plt.annotate(line_eq,(6,10), fontsize=15, color=\"red\")\n",
    "plt.xlabel(\"Latitude\")\n",
    "plt.ylabel(\"Humidity\")\n",
    "plt.title(\"Southern Hemisphere - Humidity (%) vs. Latitude Linear Regression\")\n",
    "print(f\"The r value is: {rvalue}\")\n",
    "print(\"The regression plot does show a little bit of an increase but not enough to make a solid conclusion.\")\n",
    "print(\"So that means there isn't much of a correlation in this data set but if there is its a positive correlation.\")\n",
    "plt.show()\n",
    "plt.savefig(\"../output_data/Fig8.png\")"
   ]
  },
  {
   "cell_type": "markdown",
   "metadata": {},
   "source": [
    "####  Northern Hemisphere - Cloudiness (%) vs. Latitude Linear Regression"
   ]
  },
  {
   "cell_type": "code",
   "execution_count": 253,
   "metadata": {},
   "outputs": [
    {
     "name": "stdout",
     "output_type": "stream",
     "text": [
      "The regression line eq is: y = 0.27x + 39.78\n",
      "The r value is: 0.1365775518079801\n",
      "The regression plot does show a little bit of an increase but not enough to make a solid conclusion.\n",
      "So that means there isn't much of a correlation in this data set but if there is its a positive correlation.\n"
     ]
    },
    {
     "data": {
      "image/png": "[encoded data removed]",
      "text/plain": [
       "<Figure size 432x288 with 1 Axes>"
      ]
     },
     "metadata": {
      "needs_background": "light"
     },
     "output_type": "display_data"
    },
    {
     "data": {
      "text/plain": [
       "<Figure size 432x288 with 0 Axes>"
      ]
     },
     "metadata": {},
     "output_type": "display_data"
    }
   ],
   "source": [
    "# Now for the North hemisphere humidity\n",
    "x_val = pd.to_numeric(north_hemis_df[\"Lat\"]).astype(float)\n",
    "y_val = pd.to_numeric(north_hemis_df[\"Cloudiness\"]).astype(float)\n",
    "(slope, intercept, rvalue, pvalue, stderr) = linregress(x_val, y_val)\n",
    "regress_values = x_val * slope + intercept\n",
    "line_eq = \"y = \" + str(round(slope, 2)) + \"x + \" + str(round(intercept, 2))\n",
    "print(f\"The regression line eq is: {line_eq}\")\n",
    "plt.scatter(x_val, y_val)\n",
    "plt.plot(x_val, regress_values, \"r-\")\n",
    "plt.annotate(line_eq, (40,10), fontsize=15, color=\"red\")\n",
    "plt.xlabel(\"Latitude\")\n",
    "plt.ylabel(\"Cloudiness\")\n",
    "plt.title(\"Northern Hemisphere - Cloudiness (%) vs. Latitude Linear Regression\")\n",
    "print(f\"The r value is: {rvalue}\")\n",
    "print(\"The regression plot does show a little bit of an increase but not enough to make a solid conclusion.\")\n",
    "print(\"So that means there isn't much of a correlation in this data set but if there is its a positive correlation.\")\n",
    "plt.show()\n",
    "plt.savefig(\"../output_data/Fig9.png\")"
   ]
  },
  {
   "cell_type": "markdown",
   "metadata": {},
   "source": [
    "####  Southern Hemisphere - Cloudiness (%) vs. Latitude Linear Regression"
   ]
  },
  {
   "cell_type": "code",
   "execution_count": 254,
   "metadata": {},
   "outputs": [
    {
     "name": "stdout",
     "output_type": "stream",
     "text": [
      "The regression line eq is: y = 0.8x + 70.65\n",
      "The r value is: 0.2735762453619019\n",
      "The regression plot does show a little bit of an increase but not enough to make a solid conclusion.\n",
      "So that means there isn't much of a correlation in this data set but if there is its a positive correlation.\n"
     ]
    },
    {
     "data": {
      "image/png": "[encoded data removed]",
      "text/plain": [
       "<Figure size 432x288 with 1 Axes>"
      ]
     },
     "metadata": {
      "needs_background": "light"
     },
     "output_type": "display_data"
    },
    {
     "data": {
      "text/plain": [
       "<Figure size 432x288 with 0 Axes>"
      ]
     },
     "metadata": {},
     "output_type": "display_data"
    }
   ],
   "source": [
    "# Now for the South hemisphere humidity\n",
    "x_val = pd.to_numeric(south_hemis_df[\"Lat\"]).astype(float)\n",
    "y_val = pd.to_numeric(south_hemis_df[\"Cloudiness\"]).astype(float)\n",
    "(slope, intercept, rvalue, pvalue, stderr) = linregress(x_val, y_val)\n",
    "regress_values = x_val * slope + intercept\n",
    "line_eq = \"y = \" + str(round(slope, 2)) + \"x + \" + str(round(intercept, 2))\n",
    "print(f\"The regression line eq is: {line_eq}\")\n",
    "plt.scatter(x_val, y_val)\n",
    "plt.plot(x_val, regress_values, \"r-\")\n",
    "plt.annotate(line_eq, (40,10), fontsize=15, color=\"red\")\n",
    "plt.xlabel(\"Latitude\")\n",
    "plt.ylabel(\"Cloudiness\")\n",
    "plt.title(\"Southern Hemisphere - Cloudiness (%) vs. Latitude Linear Regression\")\n",
    "print(f\"The r value is: {rvalue}\")\n",
    "print(\"The regression plot does show a little bit of an increase but not enough to make a solid conclusion.\")\n",
    "print(\"So that means there isn't much of a correlation in this data set but if there is its a positive correlation.\")\n",
    "plt.show()\n",
    "plt.savefig(\"../output_data/Fig10.png\")"
   ]
  },
  {
   "cell_type": "markdown",
   "metadata": {},
   "source": [
    "####  Northern Hemisphere - Wind Speed (mph) vs. Latitude Linear Regression"
   ]
  },
  {
   "cell_type": "code",
   "execution_count": 255,
   "metadata": {},
   "outputs": [
    {
     "name": "stdout",
     "output_type": "stream",
     "text": [
      "The regression line eq is: y = 0.04x + 6.11\n",
      "The r value is: 0.16397497292073854\n",
      "The regression plot does show a little bit of an increase but not enough to make a solid conclusion.\n",
      "So that means there isn't much of a correlation in this data set but if there is its a positive correlation.\n"
     ]
    },
    {
     "data": {
      "image/png": "[encoded data removed]",
      "text/plain": [
       "<Figure size 432x288 with 1 Axes>"
      ]
     },
     "metadata": {
      "needs_background": "light"
     },
     "output_type": "display_data"
    },
    {
     "data": {
      "text/plain": [
       "<Figure size 432x288 with 0 Axes>"
      ]
     },
     "metadata": {},
     "output_type": "display_data"
    }
   ],
   "source": [
    "# Now for the North hemisphere humidity\n",
    "x_val = pd.to_numeric(north_hemis_df[\"Lat\"]).astype(float)\n",
    "y_val = pd.to_numeric(north_hemis_df[\"Wind Speed\"]).astype(float)\n",
    "(slope, intercept, rvalue, pvalue, stderr) = linregress(x_val, y_val)\n",
    "regress_values = x_val * slope + intercept\n",
    "line_eq = \"y = \" + str(round(slope, 2)) + \"x + \" + str(round(intercept, 2))\n",
    "print(f\"The regression line eq is: {line_eq}\")\n",
    "plt.scatter(x_val, y_val)\n",
    "plt.plot(x_val, regress_values, \"r-\")\n",
    "plt.annotate(line_eq, (6,35), fontsize=15, color=\"red\")\n",
    "plt.xlabel(\"Latitude\")\n",
    "plt.ylabel(\"Wind Speed\")\n",
    "plt.title(\"Northern Hemisphere - Wind Speed (mph) vs. Latitude Linear Regression\")\n",
    "print(f\"The r value is: {rvalue}\")\n",
    "print(\"The regression plot does show a little bit of an increase but not enough to make a solid conclusion.\")\n",
    "print(\"So that means there isn't much of a correlation in this data set but if there is its a positive correlation.\")\n",
    "plt.show()\n",
    "plt.savefig(\"../output_data/Fig11.png\")"
   ]
  },
  {
   "cell_type": "markdown",
   "metadata": {},
   "source": [
    "####  Southern Hemisphere - Wind Speed (mph) vs. Latitude Linear Regression"
   ]
  },
  {
   "cell_type": "code",
   "execution_count": 256,
   "metadata": {},
   "outputs": [
    {
     "name": "stdout",
     "output_type": "stream",
     "text": [
      "The regression line eq is: y = -0.09x + 6.34\n",
      "The r value is: -0.21046530677709258\n",
      "The regression plot does show a little bit of an increase but not enough to make a solid conclusion.\n",
      "So that means there isn't much of a correlation in this data set but if there is its a negative correlation.\n"
     ]
    },
    {
     "data": {
      "image/png": "[encoded data removed]",
      "text/plain": [
       "<Figure size 432x288 with 1 Axes>"
      ]
     },
     "metadata": {
      "needs_background": "light"
     },
     "output_type": "display_data"
    },
    {
     "data": {
      "text/plain": [
       "<Figure size 432x288 with 0 Axes>"
      ]
     },
     "metadata": {},
     "output_type": "display_data"
    }
   ],
   "source": [
    "# Now for the North hemisphere humidity\n",
    "x_val = pd.to_numeric(south_hemis_df[\"Lat\"]).astype(float)\n",
    "y_val = pd.to_numeric(south_hemis_df[\"Wind Speed\"]).astype(float)\n",
    "(slope, intercept, rvalue, pvalue, stderr) = linregress(x_val, y_val)\n",
    "regress_values = x_val * slope + intercept\n",
    "line_eq = \"y = \" + str(round(slope, 2)) + \"x + \" + str(round(intercept, 2))\n",
    "print(f\"The regression line eq is: {line_eq}\")\n",
    "plt.scatter(x_val, y_val)\n",
    "plt.plot(x_val, regress_values, \"r-\")\n",
    "plt.annotate(line_eq, (6,25), fontsize=15, color=\"red\")\n",
    "plt.xlabel(\"Latitude\")\n",
    "plt.ylabel(\"Wind Speed\")\n",
    "plt.title(\"Southern Hemisphere - Wind Speed (mph) vs. Latitude Linear Regression¶\")\n",
    "print(f\"The r value is: {rvalue}\")\n",
    "print(\"The regression plot does show a little bit of an increase but not enough to make a solid conclusion.\")\n",
    "print(\"So that means there isn't much of a correlation in this data set but if there is its a negative correlation.\")\n",
    "plt.show()\n",
    "plt.savefig(\"../output_data/Fig12.png\")"
   ]
  },
  {
   "cell_type": "code",
   "execution_count": null,
   "metadata": {},
   "outputs": [],
   "source": []
  }
 ],
 "metadata": {
  "anaconda-cloud": {},
  "kernel_info": {
   "name": "python3"
  },
  "kernelspec": {
   "display_name": "Python 3",
   "language": "python",
   "name": "python3"
  },
  "language_info": {
   "codemirror_mode": {
    "name": "ipython",
    "version": 3
   },
   "file_extension": ".py",
   "mimetype": "text/x-python",
   "name": "python",
   "nbconvert_exporter": "python",
   "pygments_lexer": "ipython3",
   "version": "3.8.3"
  },
  "latex_envs": {
   "LaTeX_envs_menu_present": true,
   "autoclose": false,
   "autocomplete": true,
   "bibliofile": "biblio.bib",
   "cite_by": "apalike",
   "current_citInitial": 1,
   "eqLabelWithNumbers": true,
   "eqNumInitial": 1,
   "hotkeys": {
    "equation": "Ctrl-E",
    "itemize": "Ctrl-I"
   },
   "labels_anchors": false,
   "latex_user_defs": false,
   "report_style_numbering": false,
   "user_envs_cfg": false
  },
  "nteract": {
   "version": "0.12.3"
  }
 },
 "nbformat": 4,
 "nbformat_minor": 2
}
