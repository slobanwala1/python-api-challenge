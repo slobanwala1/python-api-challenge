{
 "cells": [
  {
   "cell_type": "markdown",
   "metadata": {},
   "source": [
    "# WeatherPy\n",
    "----\n",
    "\n",
    "#### Note\n",
    "* Instructions have been included for each segment. You do not have to follow them exactly, but they are included to help you think through the steps."
   ]
  },
  {
   "cell_type": "code",
   "execution_count": 259,
   "metadata": {
    "scrolled": true
   },
   "outputs": [],
   "source": [
    "# Dependencies and Setup\n",
    "import matplotlib.pyplot as plt\n",
    "import pandas as pd\n",
    "import numpy as np\n",
    "import requests\n",
    "import time\n",
    "from scipy.stats import linregress\n",
    "import os\n",
    "import csv\n",
    "import datetime\n",
    "\n",
    "# Import API key\n",
    "from api_keys import weather_api_key\n",
    "\n",
    "# Incorporated citipy to determine city based on latitude and longitude\n",
    "from citipy import citipy\n",
    "\n",
    "# Output File (CSV)\n",
    "output_data_file = \"../Images/output_data/cities.csv\"\n",
    "\n",
    "\n",
    "# Range of latitudes and longitudes\n",
    "lat_range = (-90, 90)\n",
    "lng_range = (-180, 180)"
   ]
  },
  {
   "cell_type": "markdown",
   "metadata": {},
   "source": [
    "## Generate Cities List"
   ]
  },
  {
   "cell_type": "code",
   "execution_count": 260,
   "metadata": {},
   "outputs": [
    {
     "data": {
      "text/plain": [
       "618"
      ]
     },
     "execution_count": 260,
     "metadata": {},
     "output_type": "execute_result"
    }
   ],
   "source": [
    "# List for holding lat_lngs and cities\n",
    "lat_lngs = []\n",
    "cities = []\n",
    "\n",
    "# Create a set of random lat and lng combinations\n",
    "lats = np.random.uniform(lat_range[0], lat_range[1], size=1500)\n",
    "lngs = np.random.uniform(lng_range[0], lng_range[1], size=1500)\n",
    "lat_lngs = zip(lats, lngs)\n",
    "\n",
    "# Identify nearest city for each lat, lng combination\n",
    "for lat_lng in lat_lngs:\n",
    "    city = citipy.nearest_city(lat_lng[0], lat_lng[1]).city_name\n",
    "    \n",
    "    # If the city is unique, then add it to a our cities list\n",
    "    if city not in cities:\n",
    "        cities.append(city)\n",
    "\n",
    "# Print the city count to confirm sufficient count\n",
    "len(cities)"
   ]
  },
  {
   "cell_type": "markdown",
   "metadata": {},
   "source": [
    "### Perform API Calls\n",
    "* Perform a weather check on each city using a series of successive API calls.\n",
    "* Include a print log of each city as it'sbeing processed (with the city number and city name).\n"
   ]
  },
  {
   "cell_type": "code",
   "execution_count": 261,
   "metadata": {
    "scrolled": true
   },
   "outputs": [
    {
     "name": "stdout",
     "output_type": "stream",
     "text": [
      "Processing Record 1 of Set 1 | tiksi\n",
      "Processing Record 2 of Set 1 | bluff\n",
      "City not found. Skipping...\n",
      "Processing Record 3 of Set 1 | new norfolk\n",
      "Processing Record 4 of Set 1 | khatanga\n",
      "Processing Record 5 of Set 1 | jamestown\n",
      "Processing Record 6 of Set 1 | hobart\n",
      "Processing Record 7 of Set 1 | salalah\n",
      "Processing Record 8 of Set 1 | mar del plata\n",
      "Processing Record 9 of Set 1 | port alfred\n",
      "City not found. Skipping...\n",
      "Processing Record 10 of Set 1 | lasa\n",
      "Processing Record 11 of Set 1 | ushuaia\n",
      "Processing Record 12 of Set 1 | bentonville\n",
      "Processing Record 13 of Set 1 | sayyan\n",
      "Processing Record 14 of Set 1 | chuy\n",
      "Processing Record 15 of Set 1 | puerto ayora\n",
      "Processing Record 16 of Set 1 | warrington\n",
      "City not found. Skipping...\n",
      "Processing Record 17 of Set 1 | cabo san lucas\n",
      "Processing Record 18 of Set 1 | ponta do sol\n",
      "Processing Record 19 of Set 1 | novikovo\n",
      "Processing Record 20 of Set 1 | tuktoyaktuk\n",
      "Processing Record 21 of Set 1 | nanortalik\n",
      "Processing Record 22 of Set 1 | the pas\n",
      "Processing Record 23 of Set 1 | kenai\n",
      "Processing Record 24 of Set 1 | carnarvon\n",
      "Processing Record 25 of Set 1 | rikitea\n",
      "City not found. Skipping...\n",
      "Processing Record 26 of Set 1 | dunedin\n",
      "Processing Record 27 of Set 1 | hithadhoo\n",
      "City not found. Skipping...\n",
      "Processing Record 28 of Set 1 | bambous virieux\n",
      "Processing Record 29 of Set 1 | solnechnyy\n",
      "Processing Record 30 of Set 1 | busselton\n",
      "City not found. Skipping...\n",
      "Processing Record 31 of Set 1 | maniitsoq\n",
      "Processing Record 32 of Set 1 | mahebourg\n",
      "Processing Record 33 of Set 1 | ennis\n",
      "City not found. Skipping...\n",
      "Processing Record 34 of Set 1 | port elizabeth\n",
      "Processing Record 35 of Set 1 | san cristobal\n",
      "Processing Record 36 of Set 1 | hambantota\n",
      "Processing Record 37 of Set 1 | mataura\n",
      "City not found. Skipping...\n",
      "Processing Record 38 of Set 1 | meghradzor\n",
      "Processing Record 39 of Set 1 | lata\n",
      "Processing Record 40 of Set 1 | punta arenas\n",
      "Processing Record 41 of Set 1 | kaitangata\n",
      "Processing Record 42 of Set 1 | verkhoyansk\n",
      "Processing Record 43 of Set 1 | barrow\n",
      "Processing Record 44 of Set 1 | port lincoln\n",
      "Processing Record 45 of Set 1 | cape town\n",
      "Processing Record 46 of Set 1 | saldanha\n",
      "Processing Record 47 of Set 1 | bredasdorp\n",
      "Processing Record 48 of Set 1 | jiamusi\n",
      "Processing Record 49 of Set 1 | atuona\n",
      "Processing Record 1 of Set 2 | kafue\n",
      "Processing Record 2 of Set 2 | nikolskoye\n",
      "Processing Record 3 of Set 2 | goderich\n",
      "Processing Record 4 of Set 2 | arcata\n",
      "Processing Record 5 of Set 2 | vaini\n",
      "Processing Record 6 of Set 2 | toppenish\n",
      "Processing Record 7 of Set 2 | lebu\n",
      "Processing Record 8 of Set 2 | dikson\n",
      "Processing Record 9 of Set 2 | yellowknife\n",
      "Processing Record 10 of Set 2 | coquimbo\n",
      "Processing Record 11 of Set 2 | geraldton\n",
      "Processing Record 12 of Set 2 | kaitong\n",
      "Processing Record 13 of Set 2 | east london\n",
      "Processing Record 14 of Set 2 | la ferte-bernard\n",
      "Processing Record 15 of Set 2 | tura\n",
      "Processing Record 16 of Set 2 | kruisfontein\n",
      "Processing Record 17 of Set 2 | tautira\n",
      "Processing Record 18 of Set 2 | pisco\n",
      "Processing Record 19 of Set 2 | yulara\n",
      "Processing Record 20 of Set 2 | egvekinot\n",
      "Processing Record 21 of Set 2 | tyrma\n",
      "Processing Record 22 of Set 2 | raga\n",
      "Processing Record 23 of Set 2 | benguela\n",
      "Processing Record 24 of Set 2 | butaritari\n",
      "Processing Record 25 of Set 2 | marovoay\n",
      "Processing Record 26 of Set 2 | bulaevo\n",
      "Processing Record 27 of Set 2 | bayan\n",
      "Processing Record 28 of Set 2 | leshukonskoye\n",
      "Processing Record 29 of Set 2 | karaton\n",
      "City not found. Skipping...\n",
      "Processing Record 30 of Set 2 | constitucion\n",
      "Processing Record 31 of Set 2 | hamilton\n",
      "City not found. Skipping...\n",
      "Processing Record 32 of Set 2 | auki\n",
      "Processing Record 33 of Set 2 | avarua\n",
      "Processing Record 34 of Set 2 | suntar\n",
      "Processing Record 35 of Set 2 | colares\n",
      "Processing Record 36 of Set 2 | hermanus\n",
      "Processing Record 37 of Set 2 | gotsu\n",
      "Processing Record 38 of Set 2 | inirida\n",
      "Processing Record 39 of Set 2 | kysyl-syr\n",
      "Processing Record 40 of Set 2 | faya\n",
      "Processing Record 41 of Set 2 | georgetown\n",
      "Processing Record 42 of Set 2 | torbay\n",
      "Processing Record 43 of Set 2 | longyearbyen\n",
      "Processing Record 44 of Set 2 | albany\n",
      "Processing Record 45 of Set 2 | fortuna\n",
      "Processing Record 46 of Set 2 | te anau\n",
      "Processing Record 47 of Set 2 | ribeira grande\n",
      "Processing Record 48 of Set 2 | gimli\n",
      "Processing Record 49 of Set 2 | den helder\n",
      "Processing Record 1 of Set 3 | dosso\n",
      "Processing Record 2 of Set 3 | mookane\n",
      "Processing Record 3 of Set 3 | isangel\n",
      "Processing Record 4 of Set 3 | tessalit\n",
      "Processing Record 5 of Set 3 | caborca\n",
      "Processing Record 6 of Set 3 | gat\n",
      "Processing Record 7 of Set 3 | parintins\n",
      "Processing Record 8 of Set 3 | itacoatiara\n",
      "Processing Record 9 of Set 3 | magdagachi\n",
      "Processing Record 10 of Set 3 | vomp\n",
      "Processing Record 11 of Set 3 | nouadhibou\n",
      "Processing Record 12 of Set 3 | tilichiki\n",
      "City not found. Skipping...\n",
      "Processing Record 13 of Set 3 | kungurtug\n",
      "Processing Record 14 of Set 3 | severo-kurilsk\n",
      "Processing Record 15 of Set 3 | pacific grove\n",
      "Processing Record 16 of Set 3 | malmesbury\n",
      "Processing Record 17 of Set 3 | tashtagol\n",
      "Processing Record 18 of Set 3 | beyneu\n",
      "Processing Record 19 of Set 3 | romans-sur-isere\n",
      "Processing Record 20 of Set 3 | boyabat\n",
      "Processing Record 21 of Set 3 | dabakala\n",
      "Processing Record 22 of Set 3 | tual\n",
      "City not found. Skipping...\n",
      "Processing Record 23 of Set 3 | adeje\n",
      "City not found. Skipping...\n",
      "Processing Record 24 of Set 3 | qaanaaq\n",
      "Processing Record 25 of Set 3 | souillac\n",
      "Processing Record 26 of Set 3 | bereda\n",
      "Processing Record 27 of Set 3 | yar-sale\n",
      "Processing Record 28 of Set 3 | kargopol\n",
      "Processing Record 29 of Set 3 | caravelas\n",
      "City not found. Skipping...\n",
      "Processing Record 30 of Set 3 | sakete\n",
      "Processing Record 31 of Set 3 | praia\n",
      "Processing Record 32 of Set 3 | tuatapere\n",
      "Processing Record 33 of Set 3 | mitchell\n",
      "Processing Record 34 of Set 3 | maceio\n",
      "Processing Record 35 of Set 3 | chumikan\n",
      "Processing Record 36 of Set 3 | sept-iles\n",
      "Processing Record 37 of Set 3 | grootfontein\n",
      "City not found. Skipping...\n",
      "Processing Record 38 of Set 3 | bengkulu\n",
      "Processing Record 39 of Set 3 | natal\n",
      "Processing Record 40 of Set 3 | nizwa\n",
      "Processing Record 41 of Set 3 | okha\n",
      "Processing Record 42 of Set 3 | chalus\n",
      "Processing Record 43 of Set 3 | kodiak\n",
      "Processing Record 44 of Set 3 | norman wells\n",
      "Processing Record 45 of Set 3 | maridi\n",
      "Processing Record 46 of Set 3 | south lake tahoe\n",
      "Processing Record 47 of Set 3 | mokhotlong\n",
      "Processing Record 48 of Set 3 | bethel\n",
      "City not found. Skipping...\n",
      "Processing Record 49 of Set 3 | palmer\n",
      "Processing Record 1 of Set 4 | arraial do cabo\n",
      "City not found. Skipping...\n",
      "Processing Record 2 of Set 4 | la asuncion\n",
      "Processing Record 3 of Set 4 | itarema\n",
      "Processing Record 4 of Set 4 | port macquarie\n",
      "Processing Record 5 of Set 4 | leuteboro\n",
      "Processing Record 6 of Set 4 | saint george\n",
      "Processing Record 7 of Set 4 | palana\n",
      "Processing Record 8 of Set 4 | port-gentil\n",
      "Processing Record 9 of Set 4 | amurzet\n",
      "Processing Record 10 of Set 4 | aguilas\n",
      "Processing Record 11 of Set 4 | pochutla\n",
      "Processing Record 12 of Set 4 | mandalgovi\n",
      "Processing Record 13 of Set 4 | thompson\n",
      "Processing Record 14 of Set 4 | saskylakh\n",
      "Processing Record 15 of Set 4 | omaruru\n",
      "Processing Record 16 of Set 4 | nuuk\n",
      "Processing Record 17 of Set 4 | luderitz\n",
      "Processing Record 18 of Set 4 | tynset\n",
      "Processing Record 19 of Set 4 | vostok\n",
      "Processing Record 20 of Set 4 | castro\n",
      "Processing Record 21 of Set 4 | usiacuri\n",
      "Processing Record 22 of Set 4 | westport\n",
      "Processing Record 23 of Set 4 | mingyue\n",
      "Processing Record 24 of Set 4 | yatou\n",
      "City not found. Skipping...\n",
      "Processing Record 25 of Set 4 | belyy yar\n",
      "Processing Record 26 of Set 4 | alghero\n",
      "Processing Record 27 of Set 4 | olafsvik\n",
      "Processing Record 28 of Set 4 | dapaong\n",
      "Processing Record 29 of Set 4 | hilo\n",
      "Processing Record 30 of Set 4 | arlit\n",
      "Processing Record 31 of Set 4 | asau\n",
      "Processing Record 32 of Set 4 | bilma\n",
      "Processing Record 33 of Set 4 | albury\n",
      "Processing Record 34 of Set 4 | shumskiy\n",
      "Processing Record 35 of Set 4 | chicama\n",
      "Processing Record 36 of Set 4 | jega\n",
      "Processing Record 37 of Set 4 | kahului\n",
      "City not found. Skipping...\n",
      "Processing Record 38 of Set 4 | ballitoville\n",
      "Processing Record 39 of Set 4 | nantucket\n",
      "Processing Record 40 of Set 4 | aginskoye\n",
      "City not found. Skipping...\n",
      "Processing Record 41 of Set 4 | miquelon\n"
     ]
    },
    {
     "name": "stdout",
     "output_type": "stream",
     "text": [
      "Processing Record 42 of Set 4 | leczyca\n",
      "Processing Record 43 of Set 4 | namatanai\n",
      "Processing Record 44 of Set 4 | sabang\n",
      "City not found. Skipping...\n",
      "Processing Record 45 of Set 4 | upernavik\n",
      "Processing Record 46 of Set 4 | yerbogachen\n",
      "City not found. Skipping...\n",
      "Processing Record 47 of Set 4 | lyubech\n",
      "Processing Record 48 of Set 4 | khvoynaya\n",
      "Processing Record 49 of Set 4 | gander\n",
      "Processing Record 1 of Set 5 | san borja\n",
      "Processing Record 2 of Set 5 | iquique\n",
      "Processing Record 3 of Set 5 | ardmore\n",
      "Processing Record 4 of Set 5 | klaksvik\n",
      "Processing Record 5 of Set 5 | pangnirtung\n",
      "Processing Record 6 of Set 5 | clyde river\n",
      "Processing Record 7 of Set 5 | lodja\n",
      "Processing Record 8 of Set 5 | rocha\n",
      "Processing Record 9 of Set 5 | magnor\n",
      "Processing Record 10 of Set 5 | peniche\n",
      "Processing Record 11 of Set 5 | pagudpud\n",
      "Processing Record 12 of Set 5 | oranjemund\n",
      "Processing Record 13 of Set 5 | mocuba\n",
      "Processing Record 14 of Set 5 | empalme\n",
      "Processing Record 15 of Set 5 | sao joao da barra\n",
      "Processing Record 16 of Set 5 | chokurdakh\n",
      "Processing Record 17 of Set 5 | viedma\n",
      "Processing Record 18 of Set 5 | victoria\n",
      "Processing Record 19 of Set 5 | pyinmana\n",
      "Processing Record 20 of Set 5 | mount gambier\n",
      "Processing Record 21 of Set 5 | ostrovnoy\n",
      "Processing Record 22 of Set 5 | ciudad bolivar\n",
      "Processing Record 23 of Set 5 | chama\n",
      "Processing Record 24 of Set 5 | gallup\n",
      "Processing Record 25 of Set 5 | atar\n",
      "Processing Record 26 of Set 5 | tecolutla\n",
      "Processing Record 27 of Set 5 | leningradskiy\n",
      "Processing Record 28 of Set 5 | tamiahua\n",
      "Processing Record 29 of Set 5 | kapaa\n",
      "Processing Record 30 of Set 5 | chapais\n",
      "Processing Record 31 of Set 5 | zhanaozen\n",
      "Processing Record 32 of Set 5 | cordoba\n",
      "Processing Record 33 of Set 5 | rongcheng\n",
      "Processing Record 34 of Set 5 | niono\n",
      "Processing Record 35 of Set 5 | pacifica\n",
      "Processing Record 36 of Set 5 | flinders\n",
      "Processing Record 37 of Set 5 | lishui\n",
      "Processing Record 38 of Set 5 | wad rawah\n",
      "Processing Record 39 of Set 5 | neringa\n",
      "Processing Record 40 of Set 5 | tasiilaq\n",
      "Processing Record 41 of Set 5 | arrecife\n",
      "Processing Record 42 of Set 5 | keflavik\n",
      "City not found. Skipping...\n",
      "Processing Record 43 of Set 5 | maba\n",
      "Processing Record 44 of Set 5 | mingshui\n",
      "Processing Record 45 of Set 5 | sinazongwe\n",
      "Processing Record 46 of Set 5 | amapa\n",
      "Processing Record 47 of Set 5 | yuksekova\n",
      "Processing Record 48 of Set 5 | mehamn\n",
      "City not found. Skipping...\n",
      "Processing Record 49 of Set 5 | cidreira\n",
      "City not found. Skipping...\n",
      "Processing Record 1 of Set 6 | quatre cocos\n",
      "Processing Record 2 of Set 6 | kirov\n",
      "Processing Record 3 of Set 6 | dobrljin\n",
      "City not found. Skipping...\n",
      "Processing Record 4 of Set 6 | katsuura\n",
      "Processing Record 5 of Set 6 | culpeper\n",
      "Processing Record 6 of Set 6 | rivers\n",
      "City not found. Skipping...\n",
      "Processing Record 7 of Set 6 | dhidhdhoo\n",
      "Processing Record 8 of Set 6 | bundaberg\n",
      "City not found. Skipping...\n",
      "City not found. Skipping...\n",
      "Processing Record 9 of Set 6 | bria\n",
      "Processing Record 10 of Set 6 | north bend\n",
      "Processing Record 11 of Set 6 | mbandaka\n",
      "City not found. Skipping...\n",
      "Processing Record 12 of Set 6 | almunecar\n",
      "Processing Record 13 of Set 6 | komsomolskiy\n",
      "Processing Record 14 of Set 6 | hofn\n",
      "Processing Record 15 of Set 6 | korem\n",
      "Processing Record 16 of Set 6 | san carlos de bariloche\n",
      "Processing Record 17 of Set 6 | dubbo\n",
      "Processing Record 18 of Set 6 | sicamous\n",
      "Processing Record 19 of Set 6 | moville\n",
      "Processing Record 20 of Set 6 | esperance\n",
      "Processing Record 21 of Set 6 | wamba\n",
      "Processing Record 22 of Set 6 | saint anthony\n",
      "Processing Record 23 of Set 6 | hohhot\n",
      "Processing Record 24 of Set 6 | sahuaripa\n",
      "Processing Record 25 of Set 6 | artesia\n",
      "Processing Record 26 of Set 6 | pakokku\n",
      "Processing Record 27 of Set 6 | puerto vallarta\n",
      "Processing Record 28 of Set 6 | codrington\n",
      "Processing Record 29 of Set 6 | aklavik\n",
      "Processing Record 30 of Set 6 | aykhal\n",
      "Processing Record 31 of Set 6 | jutai\n",
      "Processing Record 32 of Set 6 | oriximina\n",
      "Processing Record 33 of Set 6 | sorong\n",
      "Processing Record 34 of Set 6 | duobao\n",
      "Processing Record 35 of Set 6 | saint-francois\n",
      "Processing Record 36 of Set 6 | labrea\n",
      "Processing Record 37 of Set 6 | port hedland\n",
      "Processing Record 38 of Set 6 | montepuez\n",
      "Processing Record 39 of Set 6 | horqueta\n",
      "Processing Record 40 of Set 6 | cortes\n",
      "Processing Record 41 of Set 6 | lompoc\n",
      "Processing Record 42 of Set 6 | ushtobe\n",
      "Processing Record 43 of Set 6 | altagracia de orituco\n",
      "Processing Record 44 of Set 6 | thunder bay\n",
      "Processing Record 45 of Set 6 | beloha\n",
      "Processing Record 46 of Set 6 | brekstad\n",
      "Processing Record 47 of Set 6 | gumdag\n",
      "Processing Record 48 of Set 6 | saint-leu\n",
      "Processing Record 49 of Set 6 | marawi\n",
      "Processing Record 1 of Set 7 | cermik\n",
      "Processing Record 2 of Set 7 | nemuro\n",
      "Processing Record 3 of Set 7 | hasaki\n",
      "Processing Record 4 of Set 7 | villa maria\n",
      "Processing Record 5 of Set 7 | ulladulla\n",
      "Processing Record 6 of Set 7 | pemba\n",
      "Processing Record 7 of Set 7 | qurayyat\n",
      "Processing Record 8 of Set 7 | hobyo\n",
      "Processing Record 9 of Set 7 | samarai\n",
      "Processing Record 10 of Set 7 | mana\n",
      "Processing Record 11 of Set 7 | maracaju\n",
      "Processing Record 12 of Set 7 | namibe\n",
      "Processing Record 13 of Set 7 | simao\n",
      "Processing Record 14 of Set 7 | zhezkazgan\n",
      "Processing Record 15 of Set 7 | sayville\n",
      "Processing Record 16 of Set 7 | narsaq\n",
      "Processing Record 17 of Set 7 | severo-yeniseyskiy\n",
      "Processing Record 18 of Set 7 | mitsamiouli\n",
      "Processing Record 19 of Set 7 | labuhan\n",
      "Processing Record 20 of Set 7 | thayetmyo\n",
      "Processing Record 21 of Set 7 | general roca\n",
      "Processing Record 22 of Set 7 | los llanos de aridane\n",
      "Processing Record 23 of Set 7 | aksha\n",
      "Processing Record 24 of Set 7 | comodoro rivadavia\n",
      "Processing Record 25 of Set 7 | falun\n",
      "Processing Record 26 of Set 7 | moroni\n",
      "Processing Record 27 of Set 7 | korla\n",
      "Processing Record 28 of Set 7 | pevek\n",
      "Processing Record 29 of Set 7 | alofi\n",
      "Processing Record 30 of Set 7 | gashua\n",
      "Processing Record 31 of Set 7 | touros\n",
      "Processing Record 32 of Set 7 | lagunillas\n",
      "Processing Record 33 of Set 7 | santo antonio do ica\n",
      "Processing Record 34 of Set 7 | saint-philippe\n",
      "Processing Record 35 of Set 7 | vardo\n",
      "Processing Record 36 of Set 7 | sao filipe\n",
      "Processing Record 37 of Set 7 | tomatlan\n",
      "Processing Record 38 of Set 7 | sitka\n",
      "City not found. Skipping...\n",
      "Processing Record 39 of Set 7 | sioux lookout\n",
      "Processing Record 40 of Set 7 | liverpool\n",
      "Processing Record 41 of Set 7 | fairbanks\n",
      "Processing Record 42 of Set 7 | ballina\n",
      "Processing Record 43 of Set 7 | camapua\n",
      "Processing Record 44 of Set 7 | xai-xai\n",
      "Processing Record 45 of Set 7 | srivilliputtur\n",
      "Processing Record 46 of Set 7 | elko\n",
      "Processing Record 47 of Set 7 | broken hill\n",
      "Processing Record 48 of Set 7 | grand-santi\n",
      "City not found. Skipping...\n",
      "Processing Record 49 of Set 7 | anadyr\n",
      "City not found. Skipping...\n",
      "Processing Record 1 of Set 8 | guerrero negro\n",
      "City not found. Skipping...\n",
      "Processing Record 2 of Set 8 | placerville\n",
      "City not found. Skipping...\n",
      "Processing Record 3 of Set 8 | beaverlodge\n",
      "Processing Record 4 of Set 8 | chabahar\n",
      "Processing Record 5 of Set 8 | sfantu gheorghe\n",
      "Processing Record 6 of Set 8 | makakilo city\n",
      "Processing Record 7 of Set 8 | maroantsetra\n",
      "Processing Record 8 of Set 8 | airai\n",
      "Processing Record 9 of Set 8 | sacama\n",
      "Processing Record 10 of Set 8 | najran\n",
      "Processing Record 11 of Set 8 | kushima\n",
      "Processing Record 12 of Set 8 | nha trang\n",
      "Processing Record 13 of Set 8 | flagstaff\n",
      "Processing Record 14 of Set 8 | tanabe\n",
      "Processing Record 15 of Set 8 | moose factory\n",
      "Processing Record 16 of Set 8 | northam\n",
      "Processing Record 17 of Set 8 | hirara\n",
      "Processing Record 18 of Set 8 | hualmay\n",
      "City not found. Skipping...\n",
      "Processing Record 19 of Set 8 | mtambile\n",
      "Processing Record 20 of Set 8 | siparia\n",
      "Processing Record 21 of Set 8 | margate\n",
      "Processing Record 22 of Set 8 | urengoy\n",
      "City not found. Skipping...\n",
      "City not found. Skipping...\n",
      "Processing Record 23 of Set 8 | chany\n",
      "Processing Record 24 of Set 8 | guapore\n",
      "Processing Record 25 of Set 8 | khao yoi\n",
      "Processing Record 26 of Set 8 | urambo\n",
      "Processing Record 27 of Set 8 | manavalakurichi\n",
      "City not found. Skipping...\n",
      "Processing Record 28 of Set 8 | lagoa\n",
      "Processing Record 29 of Set 8 | inhambane\n",
      "Processing Record 30 of Set 8 | cairns\n",
      "Processing Record 31 of Set 8 | nova odesa\n",
      "Processing Record 32 of Set 8 | dingle\n"
     ]
    },
    {
     "name": "stdout",
     "output_type": "stream",
     "text": [
      "Processing Record 33 of Set 8 | fomboni\n",
      "Processing Record 34 of Set 8 | haines junction\n",
      "Processing Record 35 of Set 8 | maningrida\n",
      "Processing Record 36 of Set 8 | tabasalu\n",
      "Processing Record 37 of Set 8 | mattru\n",
      "Processing Record 38 of Set 8 | utkivka\n",
      "Processing Record 39 of Set 8 | coos bay\n",
      "Processing Record 40 of Set 8 | kapit\n",
      "Processing Record 41 of Set 8 | matay\n",
      "Processing Record 42 of Set 8 | bien hoa\n",
      "Processing Record 43 of Set 8 | bandarbeyla\n",
      "Processing Record 44 of Set 8 | lake cowichan\n",
      "Processing Record 45 of Set 8 | nemencine\n",
      "Processing Record 46 of Set 8 | ust-maya\n",
      "Processing Record 47 of Set 8 | provideniya\n",
      "Processing Record 48 of Set 8 | roma\n",
      "Processing Record 49 of Set 8 | beidao\n",
      "Processing Record 1 of Set 9 | kropotkin\n",
      "Processing Record 2 of Set 9 | san patricio\n",
      "City not found. Skipping...\n",
      "Processing Record 3 of Set 9 | belaya gora\n",
      "Processing Record 4 of Set 9 | huescar\n",
      "Processing Record 5 of Set 9 | huesca\n",
      "Processing Record 6 of Set 9 | talnakh\n",
      "Processing Record 7 of Set 9 | tabas\n",
      "Processing Record 8 of Set 9 | barra do corda\n",
      "Processing Record 9 of Set 9 | lerwick\n",
      "Processing Record 10 of Set 9 | empangeni\n",
      "Processing Record 11 of Set 9 | vestmannaeyjar\n",
      "Processing Record 12 of Set 9 | ojinaga\n",
      "Processing Record 13 of Set 9 | borogontsy\n",
      "Processing Record 14 of Set 9 | cockburn town\n",
      "Processing Record 15 of Set 9 | moerai\n",
      "City not found. Skipping...\n",
      "Processing Record 16 of Set 9 | okoneshnikovo\n",
      "Processing Record 17 of Set 9 | faanui\n",
      "Processing Record 18 of Set 9 | iqaluit\n",
      "City not found. Skipping...\n",
      "Processing Record 19 of Set 9 | marsa matruh\n",
      "Processing Record 20 of Set 9 | qaqortoq\n",
      "Processing Record 21 of Set 9 | miramar\n",
      "Processing Record 22 of Set 9 | sainte-anne-des-monts\n",
      "Processing Record 23 of Set 9 | coahuayana\n",
      "Processing Record 24 of Set 9 | loandjili\n",
      "Processing Record 25 of Set 9 | acapulco\n",
      "Processing Record 26 of Set 9 | moyo\n",
      "Processing Record 27 of Set 9 | san rafael\n",
      "Processing Record 28 of Set 9 | wanning\n",
      "Processing Record 29 of Set 9 | bilibino\n",
      "Processing Record 30 of Set 9 | mackay\n",
      "Processing Record 31 of Set 9 | nome\n",
      "Processing Record 32 of Set 9 | wanaka\n",
      "Processing Record 33 of Set 9 | karratha\n",
      "Processing Record 34 of Set 9 | santa maria del oro\n",
      "Processing Record 35 of Set 9 | ternate\n",
      "Processing Record 36 of Set 9 | burnie\n",
      "Processing Record 37 of Set 9 | mirnyy\n",
      "Processing Record 38 of Set 9 | ponta delgada\n",
      "Processing Record 39 of Set 9 | sampit\n",
      "Processing Record 40 of Set 9 | mount isa\n",
      "Processing Record 41 of Set 9 | chipinge\n",
      "Processing Record 42 of Set 9 | nelson bay\n",
      "Processing Record 43 of Set 9 | san policarpo\n",
      "Processing Record 44 of Set 9 | kamaishi\n",
      "City not found. Skipping...\n",
      "Processing Record 45 of Set 9 | sisimiut\n",
      "Processing Record 46 of Set 9 | tsaratanana\n",
      "Processing Record 47 of Set 9 | treinta y tres\n",
      "Processing Record 48 of Set 9 | hammerfest\n",
      "Processing Record 49 of Set 9 | erenhot\n",
      "Processing Record 1 of Set 10 | daru\n",
      "Processing Record 2 of Set 10 | ilawe\n",
      "Processing Record 3 of Set 10 | paramirim\n",
      "Processing Record 4 of Set 10 | yakovlevskoye\n",
      "City not found. Skipping...\n",
      "City not found. Skipping...\n",
      "City not found. Skipping...\n",
      "Processing Record 5 of Set 10 | ambovombe\n",
      "Processing Record 6 of Set 10 | kirakira\n",
      "Processing Record 7 of Set 10 | vaitape\n",
      "Processing Record 8 of Set 10 | malanje\n",
      "Processing Record 9 of Set 10 | karakulino\n",
      "Processing Record 10 of Set 10 | tommot\n",
      "Processing Record 11 of Set 10 | khasan\n",
      "Processing Record 12 of Set 10 | valparaiso\n",
      "Processing Record 13 of Set 10 | winburg\n",
      "Processing Record 14 of Set 10 | puro\n",
      "Processing Record 15 of Set 10 | madaba\n",
      "Processing Record 16 of Set 10 | belmonte\n",
      "Processing Record 17 of Set 10 | ormara\n",
      "Processing Record 18 of Set 10 | mingguang\n",
      "Processing Record 19 of Set 10 | boden\n",
      "Processing Record 20 of Set 10 | ongole\n",
      "Processing Record 21 of Set 10 | vangaindrano\n",
      "Processing Record 22 of Set 10 | adrar\n",
      "Processing Record 23 of Set 10 | florence\n",
      "Processing Record 24 of Set 10 | bathsheba\n",
      "Processing Record 25 of Set 10 | el reno\n",
      "Processing Record 26 of Set 10 | kinango\n",
      "Processing Record 27 of Set 10 | kamenka\n",
      "Processing Record 28 of Set 10 | aras\n",
      "Processing Record 29 of Set 10 | roald\n",
      "Processing Record 30 of Set 10 | kavaratti\n",
      "Processing Record 31 of Set 10 | teknaf\n",
      "Processing Record 32 of Set 10 | lavrentiya\n",
      "Processing Record 33 of Set 10 | deputatskiy\n",
      "Processing Record 34 of Set 10 | petropavlovsk-kamchatskiy\n",
      "City not found. Skipping...\n",
      "Processing Record 35 of Set 10 | agidel\n",
      "Processing Record 36 of Set 10 | husavik\n",
      "Processing Record 37 of Set 10 | alekseyevka\n",
      "Processing Record 38 of Set 10 | iguape\n",
      "Processing Record 39 of Set 10 | shache\n",
      "Processing Record 40 of Set 10 | orsha\n",
      "Processing Record 41 of Set 10 | barrhead\n",
      "Processing Record 42 of Set 10 | paamiut\n",
      "City not found. Skipping...\n",
      "Processing Record 43 of Set 10 | aguimes\n",
      "Processing Record 44 of Set 10 | syriam\n",
      "Processing Record 45 of Set 10 | hervey bay\n",
      "City not found. Skipping...\n",
      "City not found. Skipping...\n",
      "Processing Record 46 of Set 10 | nata\n",
      "Processing Record 47 of Set 10 | mandera\n",
      "Processing Record 48 of Set 10 | sinnamary\n",
      "Processing Record 49 of Set 10 | evensk\n",
      "Processing Record 1 of Set 11 | gazli\n",
      "Processing Record 2 of Set 11 | taltal\n",
      "Processing Record 3 of Set 11 | batagay-alyta\n",
      "Processing Record 4 of Set 11 | yarmouth\n",
      "Processing Record 5 of Set 11 | ler\n",
      "Processing Record 6 of Set 11 | san jose\n",
      "Processing Record 7 of Set 11 | maldonado\n",
      "Processing Record 8 of Set 11 | saint-pierre\n",
      "Processing Record 9 of Set 11 | ancud\n",
      "Processing Record 10 of Set 11 | xochihuehuetlan\n",
      "Processing Record 11 of Set 11 | bardiyah\n",
      "Processing Record 12 of Set 11 | poum\n",
      "Processing Record 13 of Set 11 | taganak\n",
      "Processing Record 14 of Set 11 | petit goave\n",
      "Processing Record 15 of Set 11 | bitung\n",
      "Processing Record 16 of Set 11 | upington\n",
      "Processing Record 17 of Set 11 | kavieng\n",
      "Processing Record 18 of Set 11 | banda aceh\n",
      "Processing Record 19 of Set 11 | lensk\n",
      "Processing Record 20 of Set 11 | moanda\n",
      "Processing Record 21 of Set 11 | tyup\n",
      "Processing Record 22 of Set 11 | carauari\n",
      "Processing Record 23 of Set 11 | meadow lake\n",
      "Processing Record 24 of Set 11 | llangefni\n",
      "Processing Record 25 of Set 11 | neftcala\n",
      "Processing Record 26 of Set 11 | narasannapeta\n",
      "Processing Record 27 of Set 11 | sao mateus\n",
      "Processing Record 28 of Set 11 | afua\n",
      "Processing Record 29 of Set 11 | khartoum\n",
      "Processing Record 30 of Set 11 | trincomalee\n",
      "Processing Record 31 of Set 11 | padilla\n",
      "Processing Record 32 of Set 11 | shenjiamen\n",
      "Processing Record 33 of Set 11 | khuzhir\n",
      "Processing Record 34 of Set 11 | manta\n",
      "Processing Record 35 of Set 11 | torres\n",
      "City not found. Skipping...\n",
      "City not found. Skipping...\n",
      "Processing Record 36 of Set 11 | vestmanna\n",
      "Processing Record 37 of Set 11 | lorengau\n",
      "Processing Record 38 of Set 11 | rio gallegos\n",
      "Processing Record 39 of Set 11 | shelopugino\n",
      "Processing Record 40 of Set 11 | zhemtala\n",
      "Processing Record 41 of Set 11 | port blair\n",
      "Processing Record 42 of Set 11 | kimberley\n",
      "Processing Record 43 of Set 11 | kiama\n",
      "Processing Record 44 of Set 11 | tvedestrand\n",
      "City not found. Skipping...\n",
      "Processing Record 45 of Set 11 | grand gaube\n",
      "Processing Record 46 of Set 11 | shatki\n",
      "Processing Record 47 of Set 11 | ronde\n",
      "Processing Record 48 of Set 11 | moranbah\n",
      "City not found. Skipping...\n",
      "Processing Record 49 of Set 11 | ransang\n",
      "Processing Record 1 of Set 12 | ust-tsilma\n",
      "Processing Record 2 of Set 12 | churapcha\n",
      "Processing Record 3 of Set 12 | jasper\n",
      "Processing Record 4 of Set 12 | mackenzie\n",
      "Processing Record 5 of Set 12 | yenagoa\n",
      "Processing Record 6 of Set 12 | ahipara\n",
      "Processing Record 7 of Set 12 | pavlovskaya sloboda\n",
      "Processing Record 8 of Set 12 | beringovskiy\n",
      "Processing Record 9 of Set 12 | gunjur\n",
      "City not found. Skipping...\n",
      "Processing Record 10 of Set 12 | rio grande\n",
      "Processing Record 11 of Set 12 | nerchinskiy zavod\n",
      "Processing Record 12 of Set 12 | pishin\n",
      "Processing Record 13 of Set 12 | karlskrona\n",
      "Processing Record 14 of Set 12 | saint-denis\n",
      "Processing Record 15 of Set 12 | huron\n",
      "Processing Record 16 of Set 12 | nenjiang\n",
      "Processing Record 17 of Set 12 | smithers\n",
      "Processing Record 18 of Set 12 | venafro\n",
      "Processing Record 19 of Set 12 | norfolk\n",
      "Processing Record 20 of Set 12 | conceicao do araguaia\n",
      "Processing Record 21 of Set 12 | wajid\n"
     ]
    },
    {
     "name": "stdout",
     "output_type": "stream",
     "text": [
      "Processing Record 22 of Set 12 | meulaboh\n",
      "Processing Record 23 of Set 12 | buala\n",
      "Processing Record 24 of Set 12 | salaga\n",
      "------------------------------\n",
      "\n",
      "Data Retrieval Complete\n",
      "\n",
      "------------------------------\n",
      "\n"
     ]
    }
   ],
   "source": [
    "#city_data = { }\n",
    "# data we need for dataframe in the next steps based on api order\n",
    "lats = []\n",
    "longs = []\n",
    "temp_maxes = []\n",
    "humidities = []\n",
    "dates = []\n",
    "wind_speeds = []\n",
    "cloudiness = []\n",
    "countries = []\n",
    "city_data = []\n",
    "temp_units = \"imperial\"\n",
    "#i = 0\n",
    "# keep a track of count\n",
    "city_count_curr = 0\n",
    "set_count = 1\n",
    "for city in cities:\n",
    "    target_url = (\"http://api.openweathermap.org/data/2.5/weather?q={0}&appid={1}&units={2}\").format(city, weather_api_key, \n",
    "                                                                                                     temp_units)\n",
    "    #city_data[i] = requests.get(target_url).json() \n",
    "    #print(\"Processing City: \"+str(i)+\"| City Name: \"+city)\n",
    "    #i +=1\n",
    "    try:\n",
    "        response = requests.get(target_url).json() \n",
    "        lats.append(response['coord']['lat'])\n",
    "        longs.append(response['coord']['lon'])\n",
    "        temp_maxes.append(response['main']['temp_max'])\n",
    "        humidities.append(response['main']['humidity'])\n",
    "        dates.append(response['dt'])\n",
    "        wind_speeds.append(response['wind']['speed'])\n",
    "        cloudiness.append(response['clouds']['all'])\n",
    "        countries.append(response['sys']['country'])\n",
    "        if city_count_curr > 48:\n",
    "            city_count_curr = 1\n",
    "            set_count += 1\n",
    "            city_data.append(city)\n",
    "        else:\n",
    "            city_count_curr += 1\n",
    "            city_data.append(city)\n",
    "        print(f\"Processing Record {city_count_curr} of Set {set_count} | {city}\")\n",
    "    except Exception:\n",
    "        print(f\"City not found. Skipping...\")\n",
    "print(\"------------------------------\\n\")\n",
    "print(\"Data Retrieval Complete\\n\")\n",
    "print(\"------------------------------\\n\")"
   ]
  },
  {
   "cell_type": "markdown",
   "metadata": {},
   "source": [
    "### Convert Raw Data to DataFrame\n",
    "* Export the city data into a .csv.\n",
    "* Display the DataFrame"
   ]
  },
  {
   "cell_type": "code",
   "execution_count": 262,
   "metadata": {},
   "outputs": [
    {
     "data": {
      "text/html": [
       "<div>\n",
       "<style scoped>\n",
       "    .dataframe tbody tr th:only-of-type {\n",
       "        vertical-align: middle;\n",
       "    }\n",
       "\n",
       "    .dataframe tbody tr th {\n",
       "        vertical-align: top;\n",
       "    }\n",
       "\n",
       "    .dataframe thead th {\n",
       "        text-align: right;\n",
       "    }\n",
       "</style>\n",
       "<table border=\"1\" class=\"dataframe\">\n",
       "  <thead>\n",
       "    <tr style=\"text-align: right;\">\n",
       "      <th></th>\n",
       "      <th>City</th>\n",
       "      <th>Lat</th>\n",
       "      <th>Lng</th>\n",
       "      <th>Max Temp</th>\n",
       "      <th>Humidity</th>\n",
       "      <th>Cloudiness</th>\n",
       "      <th>Wind Speed</th>\n",
       "      <th>Country</th>\n",
       "      <th>Date</th>\n",
       "    </tr>\n",
       "  </thead>\n",
       "  <tbody>\n",
       "    <tr>\n",
       "      <th>0</th>\n",
       "      <td>tiksi</td>\n",
       "      <td>71.69</td>\n",
       "      <td>128.87</td>\n",
       "      <td>4.86</td>\n",
       "      <td>93</td>\n",
       "      <td>83</td>\n",
       "      <td>4.36</td>\n",
       "      <td>RU</td>\n",
       "      <td>1603797496</td>\n",
       "    </tr>\n",
       "    <tr>\n",
       "      <th>1</th>\n",
       "      <td>bluff</td>\n",
       "      <td>-46.60</td>\n",
       "      <td>168.33</td>\n",
       "      <td>44.01</td>\n",
       "      <td>87</td>\n",
       "      <td>1</td>\n",
       "      <td>4.00</td>\n",
       "      <td>NZ</td>\n",
       "      <td>1603797496</td>\n",
       "    </tr>\n",
       "    <tr>\n",
       "      <th>2</th>\n",
       "      <td>new norfolk</td>\n",
       "      <td>-42.78</td>\n",
       "      <td>147.06</td>\n",
       "      <td>51.01</td>\n",
       "      <td>67</td>\n",
       "      <td>74</td>\n",
       "      <td>1.86</td>\n",
       "      <td>AU</td>\n",
       "      <td>1603797496</td>\n",
       "    </tr>\n",
       "    <tr>\n",
       "      <th>3</th>\n",
       "      <td>khatanga</td>\n",
       "      <td>71.97</td>\n",
       "      <td>102.50</td>\n",
       "      <td>4.06</td>\n",
       "      <td>94</td>\n",
       "      <td>97</td>\n",
       "      <td>12.08</td>\n",
       "      <td>RU</td>\n",
       "      <td>1603797496</td>\n",
       "    </tr>\n",
       "    <tr>\n",
       "      <th>4</th>\n",
       "      <td>jamestown</td>\n",
       "      <td>42.10</td>\n",
       "      <td>-79.24</td>\n",
       "      <td>42.01</td>\n",
       "      <td>100</td>\n",
       "      <td>90</td>\n",
       "      <td>3.36</td>\n",
       "      <td>US</td>\n",
       "      <td>1603797427</td>\n",
       "    </tr>\n",
       "  </tbody>\n",
       "</table>\n",
       "</div>"
      ],
      "text/plain": [
       "          City    Lat     Lng  Max Temp  Humidity  Cloudiness  Wind Speed  \\\n",
       "0        tiksi  71.69  128.87      4.86        93          83        4.36   \n",
       "1        bluff -46.60  168.33     44.01        87           1        4.00   \n",
       "2  new norfolk -42.78  147.06     51.01        67          74        1.86   \n",
       "3     khatanga  71.97  102.50      4.06        94          97       12.08   \n",
       "4    jamestown  42.10  -79.24     42.01       100          90        3.36   \n",
       "\n",
       "  Country        Date  \n",
       "0      RU  1603797496  \n",
       "1      NZ  1603797496  \n",
       "2      AU  1603797496  \n",
       "3      RU  1603797496  \n",
       "4      US  1603797427  "
      ]
     },
     "execution_count": 262,
     "metadata": {},
     "output_type": "execute_result"
    }
   ],
   "source": [
    "# Create a dict of the lists\n",
    "weather_dict = {\n",
    "    \"City\":city_data,\n",
    "    \"Lat\":lats,\n",
    "    \"Lng\":longs,\n",
    "    \"Max Temp\":temp_maxes,\n",
    "    \"Humidity\":humidities,\n",
    "    \"Cloudiness\":cloudiness,\n",
    "    \"Wind Speed\":wind_speeds,\n",
    "    \"Country\":countries,\n",
    "    \"Date\":dates\n",
    "}\n",
    "\n",
    "# Build and display dataframe\n",
    "weather_df = pd.DataFrame(weather_dict)\n",
    "weather_df = weather_df.dropna()\n",
    "weather_df.head()"
   ]
  },
  {
   "cell_type": "code",
   "execution_count": 263,
   "metadata": {},
   "outputs": [
    {
     "data": {
      "text/html": [
       "<div>\n",
       "<style scoped>\n",
       "    .dataframe tbody tr th:only-of-type {\n",
       "        vertical-align: middle;\n",
       "    }\n",
       "\n",
       "    .dataframe tbody tr th {\n",
       "        vertical-align: top;\n",
       "    }\n",
       "\n",
       "    .dataframe thead th {\n",
       "        text-align: right;\n",
       "    }\n",
       "</style>\n",
       "<table border=\"1\" class=\"dataframe\">\n",
       "  <thead>\n",
       "    <tr style=\"text-align: right;\">\n",
       "      <th></th>\n",
       "      <th>Lat</th>\n",
       "      <th>Lng</th>\n",
       "      <th>Max Temp</th>\n",
       "      <th>Humidity</th>\n",
       "      <th>Cloudiness</th>\n",
       "      <th>Wind Speed</th>\n",
       "      <th>Date</th>\n",
       "    </tr>\n",
       "  </thead>\n",
       "  <tbody>\n",
       "    <tr>\n",
       "      <th>count</th>\n",
       "      <td>563.000000</td>\n",
       "      <td>563.000000</td>\n",
       "      <td>563.000000</td>\n",
       "      <td>563.000000</td>\n",
       "      <td>563.000000</td>\n",
       "      <td>563.000000</td>\n",
       "      <td>5.630000e+02</td>\n",
       "    </tr>\n",
       "    <tr>\n",
       "      <th>mean</th>\n",
       "      <td>19.982789</td>\n",
       "      <td>17.157957</td>\n",
       "      <td>59.359485</td>\n",
       "      <td>71.277087</td>\n",
       "      <td>50.705151</td>\n",
       "      <td>8.179218</td>\n",
       "      <td>1.603798e+09</td>\n",
       "    </tr>\n",
       "    <tr>\n",
       "      <th>std</th>\n",
       "      <td>33.877674</td>\n",
       "      <td>90.089991</td>\n",
       "      <td>23.409314</td>\n",
       "      <td>22.372326</td>\n",
       "      <td>38.342367</td>\n",
       "      <td>5.774535</td>\n",
       "      <td>5.983799e+01</td>\n",
       "    </tr>\n",
       "    <tr>\n",
       "      <th>min</th>\n",
       "      <td>-54.800000</td>\n",
       "      <td>-179.170000</td>\n",
       "      <td>-5.800000</td>\n",
       "      <td>5.000000</td>\n",
       "      <td>0.000000</td>\n",
       "      <td>0.360000</td>\n",
       "      <td>1.603797e+09</td>\n",
       "    </tr>\n",
       "    <tr>\n",
       "      <th>25%</th>\n",
       "      <td>-8.850000</td>\n",
       "      <td>-60.510000</td>\n",
       "      <td>41.000000</td>\n",
       "      <td>62.000000</td>\n",
       "      <td>11.000000</td>\n",
       "      <td>3.945000</td>\n",
       "      <td>1.603798e+09</td>\n",
       "    </tr>\n",
       "    <tr>\n",
       "      <th>50%</th>\n",
       "      <td>22.930000</td>\n",
       "      <td>21.260000</td>\n",
       "      <td>63.160000</td>\n",
       "      <td>77.000000</td>\n",
       "      <td>52.000000</td>\n",
       "      <td>7.000000</td>\n",
       "      <td>1.603798e+09</td>\n",
       "    </tr>\n",
       "    <tr>\n",
       "      <th>75%</th>\n",
       "      <td>49.150000</td>\n",
       "      <td>96.880000</td>\n",
       "      <td>79.000000</td>\n",
       "      <td>88.000000</td>\n",
       "      <td>90.000000</td>\n",
       "      <td>11.410000</td>\n",
       "      <td>1.603798e+09</td>\n",
       "    </tr>\n",
       "    <tr>\n",
       "      <th>max</th>\n",
       "      <td>78.220000</td>\n",
       "      <td>179.320000</td>\n",
       "      <td>104.230000</td>\n",
       "      <td>100.000000</td>\n",
       "      <td>100.000000</td>\n",
       "      <td>41.380000</td>\n",
       "      <td>1.603798e+09</td>\n",
       "    </tr>\n",
       "  </tbody>\n",
       "</table>\n",
       "</div>"
      ],
      "text/plain": [
       "              Lat         Lng    Max Temp    Humidity  Cloudiness  Wind Speed  \\\n",
       "count  563.000000  563.000000  563.000000  563.000000  563.000000  563.000000   \n",
       "mean    19.982789   17.157957   59.359485   71.277087   50.705151    8.179218   \n",
       "std     33.877674   90.089991   23.409314   22.372326   38.342367    5.774535   \n",
       "min    -54.800000 -179.170000   -5.800000    5.000000    0.000000    0.360000   \n",
       "25%     -8.850000  -60.510000   41.000000   62.000000   11.000000    3.945000   \n",
       "50%     22.930000   21.260000   63.160000   77.000000   52.000000    7.000000   \n",
       "75%     49.150000   96.880000   79.000000   88.000000   90.000000   11.410000   \n",
       "max     78.220000  179.320000  104.230000  100.000000  100.000000   41.380000   \n",
       "\n",
       "               Date  \n",
       "count  5.630000e+02  \n",
       "mean   1.603798e+09  \n",
       "std    5.983799e+01  \n",
       "min    1.603797e+09  \n",
       "25%    1.603798e+09  \n",
       "50%    1.603798e+09  \n",
       "75%    1.603798e+09  \n",
       "max    1.603798e+09  "
      ]
     },
     "execution_count": 263,
     "metadata": {},
     "output_type": "execute_result"
    }
   ],
   "source": [
    "# Export data to csv\n",
    "weather_df.to_csv(output_data_file)\n",
    "\n",
    "# statistical information for weather_df\n",
    "weather_df.describe()"
   ]
  },
  {
   "cell_type": "markdown",
   "metadata": {},
   "source": [
    "## Inspect the data and remove the cities where the humidity > 100%.\n",
    "----\n",
    "Skip this step if there are no cities that have humidity > 100%. "
   ]
  },
  {
   "cell_type": "code",
   "execution_count": 264,
   "metadata": {},
   "outputs": [
    {
     "data": {
      "text/html": [
       "<div>\n",
       "<style scoped>\n",
       "    .dataframe tbody tr th:only-of-type {\n",
       "        vertical-align: middle;\n",
       "    }\n",
       "\n",
       "    .dataframe tbody tr th {\n",
       "        vertical-align: top;\n",
       "    }\n",
       "\n",
       "    .dataframe thead th {\n",
       "        text-align: right;\n",
       "    }\n",
       "</style>\n",
       "<table border=\"1\" class=\"dataframe\">\n",
       "  <thead>\n",
       "    <tr style=\"text-align: right;\">\n",
       "      <th></th>\n",
       "      <th>Lat</th>\n",
       "      <th>Lng</th>\n",
       "      <th>Max Temp</th>\n",
       "      <th>Humidity</th>\n",
       "      <th>Cloudiness</th>\n",
       "      <th>Wind Speed</th>\n",
       "      <th>Date</th>\n",
       "    </tr>\n",
       "  </thead>\n",
       "  <tbody>\n",
       "    <tr>\n",
       "      <th>count</th>\n",
       "      <td>547.000000</td>\n",
       "      <td>547.000000</td>\n",
       "      <td>547.000000</td>\n",
       "      <td>547.000000</td>\n",
       "      <td>547.000000</td>\n",
       "      <td>547.000000</td>\n",
       "      <td>5.470000e+02</td>\n",
       "    </tr>\n",
       "    <tr>\n",
       "      <th>mean</th>\n",
       "      <td>19.537989</td>\n",
       "      <td>18.730055</td>\n",
       "      <td>59.701536</td>\n",
       "      <td>70.436929</td>\n",
       "      <td>50.000000</td>\n",
       "      <td>8.227605</td>\n",
       "      <td>1.603798e+09</td>\n",
       "    </tr>\n",
       "    <tr>\n",
       "      <th>std</th>\n",
       "      <td>33.996615</td>\n",
       "      <td>89.524622</td>\n",
       "      <td>23.513649</td>\n",
       "      <td>22.142834</td>\n",
       "      <td>38.425991</td>\n",
       "      <td>5.832777</td>\n",
       "      <td>5.895747e+01</td>\n",
       "    </tr>\n",
       "    <tr>\n",
       "      <th>min</th>\n",
       "      <td>-54.800000</td>\n",
       "      <td>-179.170000</td>\n",
       "      <td>-5.800000</td>\n",
       "      <td>5.000000</td>\n",
       "      <td>0.000000</td>\n",
       "      <td>0.360000</td>\n",
       "      <td>1.603797e+09</td>\n",
       "    </tr>\n",
       "    <tr>\n",
       "      <th>25%</th>\n",
       "      <td>-9.605000</td>\n",
       "      <td>-55.520000</td>\n",
       "      <td>41.460000</td>\n",
       "      <td>62.000000</td>\n",
       "      <td>8.500000</td>\n",
       "      <td>3.945000</td>\n",
       "      <td>1.603798e+09</td>\n",
       "    </tr>\n",
       "    <tr>\n",
       "      <th>50%</th>\n",
       "      <td>21.460000</td>\n",
       "      <td>24.530000</td>\n",
       "      <td>64.000000</td>\n",
       "      <td>77.000000</td>\n",
       "      <td>50.000000</td>\n",
       "      <td>7.000000</td>\n",
       "      <td>1.603798e+09</td>\n",
       "    </tr>\n",
       "    <tr>\n",
       "      <th>75%</th>\n",
       "      <td>49.045000</td>\n",
       "      <td>98.325000</td>\n",
       "      <td>79.305000</td>\n",
       "      <td>87.000000</td>\n",
       "      <td>90.000000</td>\n",
       "      <td>11.410000</td>\n",
       "      <td>1.603798e+09</td>\n",
       "    </tr>\n",
       "    <tr>\n",
       "      <th>max</th>\n",
       "      <td>78.220000</td>\n",
       "      <td>179.320000</td>\n",
       "      <td>104.230000</td>\n",
       "      <td>99.000000</td>\n",
       "      <td>100.000000</td>\n",
       "      <td>41.380000</td>\n",
       "      <td>1.603798e+09</td>\n",
       "    </tr>\n",
       "  </tbody>\n",
       "</table>\n",
       "</div>"
      ],
      "text/plain": [
       "              Lat         Lng    Max Temp    Humidity  Cloudiness  Wind Speed  \\\n",
       "count  547.000000  547.000000  547.000000  547.000000  547.000000  547.000000   \n",
       "mean    19.537989   18.730055   59.701536   70.436929   50.000000    8.227605   \n",
       "std     33.996615   89.524622   23.513649   22.142834   38.425991    5.832777   \n",
       "min    -54.800000 -179.170000   -5.800000    5.000000    0.000000    0.360000   \n",
       "25%     -9.605000  -55.520000   41.460000   62.000000    8.500000    3.945000   \n",
       "50%     21.460000   24.530000   64.000000   77.000000   50.000000    7.000000   \n",
       "75%     49.045000   98.325000   79.305000   87.000000   90.000000   11.410000   \n",
       "max     78.220000  179.320000  104.230000   99.000000  100.000000   41.380000   \n",
       "\n",
       "               Date  \n",
       "count  5.470000e+02  \n",
       "mean   1.603798e+09  \n",
       "std    5.895747e+01  \n",
       "min    1.603797e+09  \n",
       "25%    1.603798e+09  \n",
       "50%    1.603798e+09  \n",
       "75%    1.603798e+09  \n",
       "max    1.603798e+09  "
      ]
     },
     "execution_count": 264,
     "metadata": {},
     "output_type": "execute_result"
    }
   ],
   "source": [
    "weather_df_humid_mod = weather_df.query('Humidity < 100')\n",
    "weather_df_humid_mod.describe()"
   ]
  },
  {
   "cell_type": "code",
   "execution_count": 265,
   "metadata": {},
   "outputs": [],
   "source": [
    "#  Get the indices of cities that have humidity over 100%.\n",
    "# Just did a query to remove all the humidity less than 100"
   ]
  },
  {
   "cell_type": "code",
   "execution_count": 266,
   "metadata": {},
   "outputs": [],
   "source": [
    "# Make a new DataFrame equal to the city data to drop all humidity outliers by index.\n",
    "# Passing \"inplace=False\" will make a copy of the city_data DataFrame, which we call \"clean_city_data\".\n"
   ]
  },
  {
   "cell_type": "code",
   "execution_count": 267,
   "metadata": {},
   "outputs": [
    {
     "data": {
      "text/html": [
       "<div>\n",
       "<style scoped>\n",
       "    .dataframe tbody tr th:only-of-type {\n",
       "        vertical-align: middle;\n",
       "    }\n",
       "\n",
       "    .dataframe tbody tr th {\n",
       "        vertical-align: top;\n",
       "    }\n",
       "\n",
       "    .dataframe thead th {\n",
       "        text-align: right;\n",
       "    }\n",
       "</style>\n",
       "<table border=\"1\" class=\"dataframe\">\n",
       "  <thead>\n",
       "    <tr style=\"text-align: right;\">\n",
       "      <th></th>\n",
       "      <th>City</th>\n",
       "      <th>Lat</th>\n",
       "      <th>Lng</th>\n",
       "      <th>Max Temp</th>\n",
       "      <th>Humidity</th>\n",
       "      <th>Cloudiness</th>\n",
       "      <th>Wind Speed</th>\n",
       "      <th>Country</th>\n",
       "      <th>Date</th>\n",
       "    </tr>\n",
       "  </thead>\n",
       "  <tbody>\n",
       "    <tr>\n",
       "      <th>0</th>\n",
       "      <td>tiksi</td>\n",
       "      <td>71.69</td>\n",
       "      <td>128.87</td>\n",
       "      <td>4.86</td>\n",
       "      <td>93</td>\n",
       "      <td>83</td>\n",
       "      <td>4.36</td>\n",
       "      <td>RU</td>\n",
       "      <td>1603797496</td>\n",
       "    </tr>\n",
       "    <tr>\n",
       "      <th>1</th>\n",
       "      <td>bluff</td>\n",
       "      <td>-46.60</td>\n",
       "      <td>168.33</td>\n",
       "      <td>44.01</td>\n",
       "      <td>87</td>\n",
       "      <td>1</td>\n",
       "      <td>4.00</td>\n",
       "      <td>NZ</td>\n",
       "      <td>1603797496</td>\n",
       "    </tr>\n",
       "    <tr>\n",
       "      <th>2</th>\n",
       "      <td>new norfolk</td>\n",
       "      <td>-42.78</td>\n",
       "      <td>147.06</td>\n",
       "      <td>51.01</td>\n",
       "      <td>67</td>\n",
       "      <td>74</td>\n",
       "      <td>1.86</td>\n",
       "      <td>AU</td>\n",
       "      <td>1603797496</td>\n",
       "    </tr>\n",
       "    <tr>\n",
       "      <th>3</th>\n",
       "      <td>khatanga</td>\n",
       "      <td>71.97</td>\n",
       "      <td>102.50</td>\n",
       "      <td>4.06</td>\n",
       "      <td>94</td>\n",
       "      <td>97</td>\n",
       "      <td>12.08</td>\n",
       "      <td>RU</td>\n",
       "      <td>1603797496</td>\n",
       "    </tr>\n",
       "    <tr>\n",
       "      <th>5</th>\n",
       "      <td>hobart</td>\n",
       "      <td>-42.88</td>\n",
       "      <td>147.33</td>\n",
       "      <td>51.80</td>\n",
       "      <td>81</td>\n",
       "      <td>75</td>\n",
       "      <td>9.17</td>\n",
       "      <td>AU</td>\n",
       "      <td>1603797257</td>\n",
       "    </tr>\n",
       "  </tbody>\n",
       "</table>\n",
       "</div>"
      ],
      "text/plain": [
       "          City    Lat     Lng  Max Temp  Humidity  Cloudiness  Wind Speed  \\\n",
       "0        tiksi  71.69  128.87      4.86        93          83        4.36   \n",
       "1        bluff -46.60  168.33     44.01        87           1        4.00   \n",
       "2  new norfolk -42.78  147.06     51.01        67          74        1.86   \n",
       "3     khatanga  71.97  102.50      4.06        94          97       12.08   \n",
       "5       hobart -42.88  147.33     51.80        81          75        9.17   \n",
       "\n",
       "  Country        Date  \n",
       "0      RU  1603797496  \n",
       "1      NZ  1603797496  \n",
       "2      AU  1603797496  \n",
       "3      RU  1603797496  \n",
       "5      AU  1603797257  "
      ]
     },
     "execution_count": 267,
     "metadata": {},
     "output_type": "execute_result"
    }
   ],
   "source": [
    "weather_df_humid_mod.head()\n"
   ]
  },
  {
   "cell_type": "markdown",
   "metadata": {},
   "source": [
    "## Plotting the Data\n",
    "* Use proper labeling of the plots using plot titles (including date of analysis) and axes labels.\n",
    "* Save the plotted figures as .pngs."
   ]
  },
  {
   "cell_type": "markdown",
   "metadata": {},
   "source": [
    "## Latitude vs. Temperature Plot"
   ]
  },
  {
   "cell_type": "code",
   "execution_count": 269,
   "metadata": {
    "scrolled": true
   },
   "outputs": [
    {
     "data": {
      "image/png": "[encoded data removed]",
      "text/plain": [
       "<Figure size 432x288 with 1 Axes>"
      ]
     },
     "metadata": {
      "needs_background": "light"
     },
     "output_type": "display_data"
    }
   ],
   "source": [
    "# Lat vs Max Temp\n",
    "plt.scatter(weather_df_humid_mod[\"Lat\"], weather_df_humid_mod[\"Max Temp\"], edgecolors=\"black\", facecolors=\"skyblue\")\n",
    "plt.title(\"City Latitude vs. Max Temperature (10/25/20)\")\n",
    "plt.xlabel(\"Latitude\")\n",
    "plt.ylabel(\"Max Temperature (F)\")\n",
    "plt.grid (b=True, which=\"major\", axis=\"both\", linestyle=\"-\", color=\"lightgrey\")\n",
    "plt.savefig(\"../Images/output_data/Fig1.png\")\n"
   ]
  },
  {
   "cell_type": "markdown",
   "metadata": {},
   "source": [
    "## Latitude vs. Humidity Plot"
   ]
  },
  {
   "cell_type": "code",
   "execution_count": 270,
   "metadata": {},
   "outputs": [
    {
     "data": {
      "image/png": "[encoded data removed]",
      "text/plain": [
       "<Figure size 432x288 with 1 Axes>"
      ]
     },
     "metadata": {
      "needs_background": "light"
     },
     "output_type": "display_data"
    }
   ],
   "source": [
    "# Lat vs Humidity\n",
    "plt.scatter(weather_df_humid_mod[\"Lat\"], weather_df_humid_mod[\"Humidity\"], edgecolors=\"black\", facecolors=\"skyblue\")\n",
    "plt.title(\"City Latitude vs. Humidity (10/25/20)\")\n",
    "plt.xlabel(\"Latitude\")\n",
    "plt.ylabel(\"Humidity (%)\")\n",
    "plt.grid (b=True, which=\"major\", axis=\"both\", linestyle=\"-\", color=\"lightgrey\")\n",
    "plt.savefig(\"../Images/output_data/Fig2.png\")\n"
   ]
  },
  {
   "cell_type": "markdown",
   "metadata": {},
   "source": [
    "## Latitude vs. Cloudiness Plot"
   ]
  },
  {
   "cell_type": "code",
   "execution_count": 271,
   "metadata": {},
   "outputs": [
    {
     "data": {
      "image/png": "[encoded data removed]",
      "text/plain": [
       "<Figure size 432x288 with 1 Axes>"
      ]
     },
     "metadata": {
      "needs_background": "light"
     },
     "output_type": "display_data"
    }
   ],
   "source": [
    "# Lat vs Cloudiness\n",
    "plt.scatter(weather_df_humid_mod[\"Lat\"], weather_df_humid_mod[\"Cloudiness\"], edgecolors=\"black\", facecolors=\"skyblue\")\n",
    "plt.title(\"City Latitude vs. Cloudiness (10/25/20)\")\n",
    "plt.xlabel(\"Latitude\")\n",
    "plt.ylabel(\"Cloudiness (%)\")\n",
    "plt.grid (b=True, which=\"major\", axis=\"both\", linestyle=\"-\", color=\"lightgrey\")\n",
    "plt.savefig(\"../Images/output_data/Fig3.png\")\n"
   ]
  },
  {
   "cell_type": "markdown",
   "metadata": {},
   "source": [
    "## Latitude vs. Wind Speed Plot"
   ]
  },
  {
   "cell_type": "code",
   "execution_count": 272,
   "metadata": {},
   "outputs": [
    {
     "data": {
      "image/png": "[encoded data removed]",
      "text/plain": [
       "<Figure size 432x288 with 1 Axes>"
      ]
     },
     "metadata": {
      "needs_background": "light"
     },
     "output_type": "display_data"
    }
   ],
   "source": [
    "# Lat vs Wind Speed\n",
    "plt.scatter(weather_df_humid_mod[\"Lat\"], weather_df_humid_mod[\"Wind Speed\"], edgecolors=\"black\", facecolors=\"skyblue\")\n",
    "plt.title(\"City Latitude vs. Humidity (10/25/20)\")\n",
    "plt.xlabel(\"Latitude\")\n",
    "plt.ylabel(\"Wind Speed (mph)\")\n",
    "plt.grid (b=True, which=\"major\", axis=\"both\", linestyle=\"-\", color=\"lightgrey\")\n",
    "plt.savefig(\"../Images/output_data/Fig4.png\")"
   ]
  },
  {
   "cell_type": "markdown",
   "metadata": {},
   "source": [
    "## Linear Regression"
   ]
  },
  {
   "cell_type": "code",
   "execution_count": 273,
   "metadata": {},
   "outputs": [],
   "source": [
    "# We need northern hemisphere and souther hemisphere\n",
    "north_hemis_df = weather_df_humid_mod.loc[pd.to_numeric(weather_df_humid_mod[\"Lat\"]).astype(float) > 0, :]\n",
    "south_hemis_df = weather_df_humid_mod.loc[pd.to_numeric(weather_df_humid_mod[\"Lat\"]).astype(float) < 0, :]"
   ]
  },
  {
   "cell_type": "markdown",
   "metadata": {},
   "source": [
    "####  Northern Hemisphere - Max Temp vs. Latitude Linear Regression"
   ]
  },
  {
   "cell_type": "code",
   "execution_count": 274,
   "metadata": {},
   "outputs": [
    {
     "name": "stdout",
     "output_type": "stream",
     "text": [
      "The regression line eq is: y = -1.06x + 95.53\n",
      "The r value is: -0.8586796294078047\n",
      "The regression plot has a nature of decreasing as well as its r value is negative so its a negative correlation.\n",
      "So that means in the northern hemisphere as you move away from the equator the temperature will decrease.\n"
     ]
    },
    {
     "data": {
      "image/png": "[encoded data removed]",
      "text/plain": [
       "<Figure size 432x288 with 1 Axes>"
      ]
     },
     "metadata": {
      "needs_background": "light"
     },
     "output_type": "display_data"
    },
    {
     "data": {
      "text/plain": [
       "<Figure size 432x288 with 0 Axes>"
      ]
     },
     "metadata": {},
     "output_type": "display_data"
    }
   ],
   "source": [
    "# North hemisphere plot\n",
    "x_val = pd.to_numeric(north_hemis_df[\"Lat\"]).astype(float)\n",
    "y_val = pd.to_numeric(north_hemis_df[\"Max Temp\"]).astype(float)\n",
    "(slope, intercept, rvalue, pvalue, stderr) = linregress(x_val, y_val)\n",
    "regress_values = x_val * slope + intercept\n",
    "line_eq = \"y = \" + str(round(slope, 2)) + \"x + \" + str(round(intercept, 2))\n",
    "print(f\"The regression line eq is: {line_eq}\")\n",
    "plt.scatter(x_val, y_val)\n",
    "plt.plot(x_val, regress_values, \"r-\")\n",
    "plt.annotate(line_eq,(6,10), fontsize=15, color=\"red\")\n",
    "plt.xlabel(\"Latitude\")\n",
    "plt.ylabel(\"Max Temp\")\n",
    "plt.title(\"Northern Hemisphere - Max Temp vs. Latitude Linear Regression\")\n",
    "print(f\"The r value is: {rvalue}\")\n",
    "print(\"The regression plot has a nature of decreasing as well as its r value is negative so its a negative correlation.\")\n",
    "print(\"So that means in the northern hemisphere as you move away from the equator the temperature will decrease.\")\n",
    "plt.show()\n",
    "plt.savefig(\"../Images/output_data/Fig5.png\")"
   ]
  },
  {
   "cell_type": "markdown",
   "metadata": {},
   "source": [
    "####  Southern Hemisphere - Max Temp vs. Latitude Linear Regression"
   ]
  },
  {
   "cell_type": "code",
   "execution_count": 275,
   "metadata": {},
   "outputs": [
    {
     "name": "stdout",
     "output_type": "stream",
     "text": [
      "The regression line eq is: y = 0.7x + 87.62\n",
      "The r value is: 0.6969396974955301\n",
      "The regression plot has a nature of increasing as well as its r value is posiitve so its a positive correlation.\n",
      "So that means in the northern hemisphere as you get close to the equator the temperature will increase.\n"
     ]
    },
    {
     "data": {
      "image/png": "[encoded data removed]",
      "text/plain": [
       "<Figure size 432x288 with 1 Axes>"
      ]
     },
     "metadata": {
      "needs_background": "light"
     },
     "output_type": "display_data"
    },
    {
     "data": {
      "text/plain": [
       "<Figure size 432x288 with 0 Axes>"
      ]
     },
     "metadata": {},
     "output_type": "display_data"
    }
   ],
   "source": [
    "# Now for the south hemisphere\n",
    "x_val = pd.to_numeric(south_hemis_df[\"Lat\"]).astype(float)\n",
    "y_val = pd.to_numeric(south_hemis_df[\"Max Temp\"]).astype(float)\n",
    "(slope, intercept, rvalue, pvalue, stderr) = linregress(x_val, y_val)\n",
    "regress_values = x_val * slope + intercept\n",
    "line_eq = \"y = \" + str(round(slope, 2)) + \"x + \" + str(round(intercept, 2))\n",
    "print(f\"The regression line eq is: {line_eq}\")\n",
    "plt.scatter(x_val, y_val)\n",
    "plt.plot(x_val, regress_values, \"r-\")\n",
    "plt.annotate(line_eq, (6,10), fontsize=15, color=\"red\")\n",
    "plt.xlabel(\"Latitude\")\n",
    "plt.ylabel(\"Max Temp\")\n",
    "plt.title(\"Southern Hemisphere - Max Temp vs. Latitude Linear Regression\")\n",
    "print(f\"The r value is: {rvalue}\")\n",
    "print(\"The regression plot has a nature of increasing as well as its r value is posiitve so its a positive correlation.\")\n",
    "print(\"So that means in the northern hemisphere as you get close to the equator the temperature will increase.\")\n",
    "plt.show()\n",
    "plt.savefig(\"../Images/output_data/Fig6.png\")"
   ]
  },
  {
   "cell_type": "markdown",
   "metadata": {},
   "source": [
    "####  Northern Hemisphere - Humidity (%) vs. Latitude Linear Regression"
   ]
  },
  {
   "cell_type": "code",
   "execution_count": 276,
   "metadata": {},
   "outputs": [
    {
     "name": "stdout",
     "output_type": "stream",
     "text": [
      "The regression line eq is: y = 0.38x + 55.79\n",
      "The r value is: 0.33683087019713825\n",
      "The regression plot does show a little bit of an increase but not enough to make a solid conclusion.\n",
      "So that means there isn't much of a correlation in this data set but if there is its a positive correlation.\n"
     ]
    },
    {
     "data": {
      "image/png": "[encoded data removed]",
      "text/plain": [
       "<Figure size 432x288 with 1 Axes>"
      ]
     },
     "metadata": {
      "needs_background": "light"
     },
     "output_type": "display_data"
    },
    {
     "data": {
      "text/plain": [
       "<Figure size 432x288 with 0 Axes>"
      ]
     },
     "metadata": {},
     "output_type": "display_data"
    }
   ],
   "source": [
    "# Now for the North hemisphere humidity\n",
    "x_val = pd.to_numeric(north_hemis_df[\"Lat\"]).astype(float)\n",
    "y_val = pd.to_numeric(north_hemis_df[\"Humidity\"]).astype(float)\n",
    "(slope, intercept, rvalue, pvalue, stderr) = linregress(x_val, y_val)\n",
    "regress_values = x_val * slope + intercept\n",
    "line_eq = \"y = \" + str(round(slope, 2)) + \"x + \" + str(round(intercept, 2))\n",
    "print(f\"The regression line eq is: {line_eq}\")\n",
    "plt.scatter(x_val, y_val)\n",
    "plt.plot(x_val, regress_values, \"r-\")\n",
    "plt.annotate(line_eq, (40,10), fontsize=15, color=\"red\")\n",
    "plt.xlabel(\"Latitude\")\n",
    "plt.ylabel(\"Humidity\")\n",
    "plt.title(\"Northern Hemisphere - Humidity (%) vs. Latitude Linear Regression\")\n",
    "print(f\"The r value is: {rvalue}\")\n",
    "print(\"The regression plot does show a little bit of an increase but not enough to make a solid conclusion.\")\n",
    "print(\"So that means there isn't much of a correlation in this data set but if there is its a positive correlation.\")\n",
    "plt.show()\n",
    "plt.savefig(\"../Images/output_data/Fig7.png\")"
   ]
  },
  {
   "cell_type": "markdown",
   "metadata": {},
   "source": [
    "####  Southern Hemisphere - Humidity (%) vs. Latitude Linear Regression"
   ]
  },
  {
   "cell_type": "code",
   "execution_count": 277,
   "metadata": {},
   "outputs": [
    {
     "name": "stdout",
     "output_type": "stream",
     "text": [
      "The regression line eq is: y = 0.12x + 72.33\n",
      "The r value is: 0.07746473611556183\n",
      "The regression plot does show a little bit of an increase but not enough to make a solid conclusion.\n",
      "So that means there isn't much of a correlation in this data set but if there is its a positive correlation.\n"
     ]
    },
    {
     "data": {
      "image/png": "[encoded data removed]",
      "text/plain": [
       "<Figure size 432x288 with 1 Axes>"
      ]
     },
     "metadata": {
      "needs_background": "light"
     },
     "output_type": "display_data"
    },
    {
     "data": {
      "text/plain": [
       "<Figure size 432x288 with 0 Axes>"
      ]
     },
     "metadata": {},
     "output_type": "display_data"
    }
   ],
   "source": [
    "# Now for the South hemisphere humidity\n",
    "x_val = pd.to_numeric(south_hemis_df[\"Lat\"]).astype(float)\n",
    "y_val = pd.to_numeric(south_hemis_df[\"Humidity\"]).astype(float)\n",
    "(slope, intercept, rvalue, pvalue, stderr) = linregress(x_val, y_val)\n",
    "regress_values = x_val * slope + intercept\n",
    "line_eq = \"y = \" + str(round(slope, 2)) + \"x + \" + str(round(intercept, 2))\n",
    "print(f\"The regression line eq is: {line_eq}\")\n",
    "plt.scatter(x_val, y_val)\n",
    "plt.plot(x_val, regress_values, \"r-\")\n",
    "plt.annotate(line_eq,(6,10), fontsize=15, color=\"red\")\n",
    "plt.xlabel(\"Latitude\")\n",
    "plt.ylabel(\"Humidity\")\n",
    "plt.title(\"Southern Hemisphere - Humidity (%) vs. Latitude Linear Regression\")\n",
    "print(f\"The r value is: {rvalue}\")\n",
    "print(\"The regression plot does show a little bit of an increase but not enough to make a solid conclusion.\")\n",
    "print(\"So that means there isn't much of a correlation in this data set but if there is its a positive correlation.\")\n",
    "plt.show()\n",
    "plt.savefig(\"../Images/output_data/Fig8.png\")"
   ]
  },
  {
   "cell_type": "markdown",
   "metadata": {},
   "source": [
    "####  Northern Hemisphere - Cloudiness (%) vs. Latitude Linear Regression"
   ]
  },
  {
   "cell_type": "code",
   "execution_count": 278,
   "metadata": {},
   "outputs": [
    {
     "name": "stdout",
     "output_type": "stream",
     "text": [
      "The regression line eq is: y = 0.36x + 36.05\n",
      "The r value is: 0.18422636133410425\n",
      "The regression plot does show a little bit of an increase but not enough to make a solid conclusion.\n",
      "So that means there isn't much of a correlation in this data set but if there is its a positive correlation.\n"
     ]
    },
    {
     "data": {
      "image/png": "[encoded data removed]",
      "text/plain": [
       "<Figure size 432x288 with 1 Axes>"
      ]
     },
     "metadata": {
      "needs_background": "light"
     },
     "output_type": "display_data"
    },
    {
     "data": {
      "text/plain": [
       "<Figure size 432x288 with 0 Axes>"
      ]
     },
     "metadata": {},
     "output_type": "display_data"
    }
   ],
   "source": [
    "# Now for the North hemisphere humidity\n",
    "x_val = pd.to_numeric(north_hemis_df[\"Lat\"]).astype(float)\n",
    "y_val = pd.to_numeric(north_hemis_df[\"Cloudiness\"]).astype(float)\n",
    "(slope, intercept, rvalue, pvalue, stderr) = linregress(x_val, y_val)\n",
    "regress_values = x_val * slope + intercept\n",
    "line_eq = \"y = \" + str(round(slope, 2)) + \"x + \" + str(round(intercept, 2))\n",
    "print(f\"The regression line eq is: {line_eq}\")\n",
    "plt.scatter(x_val, y_val)\n",
    "plt.plot(x_val, regress_values, \"r-\")\n",
    "plt.annotate(line_eq, (40,10), fontsize=15, color=\"red\")\n",
    "plt.xlabel(\"Latitude\")\n",
    "plt.ylabel(\"Cloudiness\")\n",
    "plt.title(\"Northern Hemisphere - Cloudiness (%) vs. Latitude Linear Regression\")\n",
    "print(f\"The r value is: {rvalue}\")\n",
    "print(\"The regression plot does show a little bit of an increase but not enough to make a solid conclusion.\")\n",
    "print(\"So that means there isn't much of a correlation in this data set but if there is its a positive correlation.\")\n",
    "plt.show()\n",
    "plt.savefig(\"../Images/output_data/Fig9.png\")"
   ]
  },
  {
   "cell_type": "markdown",
   "metadata": {},
   "source": [
    "####  Southern Hemisphere - Cloudiness (%) vs. Latitude Linear Regression"
   ]
  },
  {
   "cell_type": "code",
   "execution_count": 279,
   "metadata": {},
   "outputs": [
    {
     "name": "stdout",
     "output_type": "stream",
     "text": [
      "The regression line eq is: y = 0.7x + 65.52\n",
      "The r value is: 0.2463213491883604\n",
      "The regression plot does show a little bit of an increase but not enough to make a solid conclusion.\n",
      "So that means there isn't much of a correlation in this data set but if there is its a positive correlation.\n"
     ]
    },
    {
     "data": {
      "image/png": "[encoded data removed]",
      "text/plain": [
       "<Figure size 432x288 with 1 Axes>"
      ]
     },
     "metadata": {
      "needs_background": "light"
     },
     "output_type": "display_data"
    },
    {
     "data": {
      "text/plain": [
       "<Figure size 432x288 with 0 Axes>"
      ]
     },
     "metadata": {},
     "output_type": "display_data"
    }
   ],
   "source": [
    "# Now for the South hemisphere humidity\n",
    "x_val = pd.to_numeric(south_hemis_df[\"Lat\"]).astype(float)\n",
    "y_val = pd.to_numeric(south_hemis_df[\"Cloudiness\"]).astype(float)\n",
    "(slope, intercept, rvalue, pvalue, stderr) = linregress(x_val, y_val)\n",
    "regress_values = x_val * slope + intercept\n",
    "line_eq = \"y = \" + str(round(slope, 2)) + \"x + \" + str(round(intercept, 2))\n",
    "print(f\"The regression line eq is: {line_eq}\")\n",
    "plt.scatter(x_val, y_val)\n",
    "plt.plot(x_val, regress_values, \"r-\")\n",
    "plt.annotate(line_eq, (40,10), fontsize=15, color=\"red\")\n",
    "plt.xlabel(\"Latitude\")\n",
    "plt.ylabel(\"Cloudiness\")\n",
    "plt.title(\"Southern Hemisphere - Cloudiness (%) vs. Latitude Linear Regression\")\n",
    "print(f\"The r value is: {rvalue}\")\n",
    "print(\"The regression plot does show a little bit of an increase but not enough to make a solid conclusion.\")\n",
    "print(\"So that means there isn't much of a correlation in this data set but if there is its a positive correlation.\")\n",
    "plt.show()\n",
    "plt.savefig(\"../Images/output_data/Fig10.png\")"
   ]
  },
  {
   "cell_type": "markdown",
   "metadata": {},
   "source": [
    "####  Northern Hemisphere - Wind Speed (mph) vs. Latitude Linear Regression"
   ]
  },
  {
   "cell_type": "code",
   "execution_count": 280,
   "metadata": {},
   "outputs": [
    {
     "name": "stdout",
     "output_type": "stream",
     "text": [
      "The regression line eq is: y = 0.04x + 6.33\n",
      "The r value is: 0.15043957840693978\n",
      "The regression plot does show a little bit of an increase but not enough to make a solid conclusion.\n",
      "So that means there isn't much of a correlation in this data set but if there is its a positive correlation.\n"
     ]
    },
    {
     "data": {
      "image/png": "[encoded data removed]",
      "text/plain": [
       "<Figure size 432x288 with 1 Axes>"
      ]
     },
     "metadata": {
      "needs_background": "light"
     },
     "output_type": "display_data"
    },
    {
     "data": {
      "text/plain": [
       "<Figure size 432x288 with 0 Axes>"
      ]
     },
     "metadata": {},
     "output_type": "display_data"
    }
   ],
   "source": [
    "# Now for the North hemisphere humidity\n",
    "x_val = pd.to_numeric(north_hemis_df[\"Lat\"]).astype(float)\n",
    "y_val = pd.to_numeric(north_hemis_df[\"Wind Speed\"]).astype(float)\n",
    "(slope, intercept, rvalue, pvalue, stderr) = linregress(x_val, y_val)\n",
    "regress_values = x_val * slope + intercept\n",
    "line_eq = \"y = \" + str(round(slope, 2)) + \"x + \" + str(round(intercept, 2))\n",
    "print(f\"The regression line eq is: {line_eq}\")\n",
    "plt.scatter(x_val, y_val)\n",
    "plt.plot(x_val, regress_values, \"r-\")\n",
    "plt.annotate(line_eq, (6,35), fontsize=15, color=\"red\")\n",
    "plt.xlabel(\"Latitude\")\n",
    "plt.ylabel(\"Wind Speed\")\n",
    "plt.title(\"Northern Hemisphere - Wind Speed (mph) vs. Latitude Linear Regression\")\n",
    "print(f\"The r value is: {rvalue}\")\n",
    "print(\"The regression plot does show a little bit of an increase but not enough to make a solid conclusion.\")\n",
    "print(\"So that means there isn't much of a correlation in this data set but if there is its a positive correlation.\")\n",
    "plt.show()\n",
    "plt.savefig(\"../Images/output_data/Fig11.png\")"
   ]
  },
  {
   "cell_type": "markdown",
   "metadata": {},
   "source": [
    "####  Southern Hemisphere - Wind Speed (mph) vs. Latitude Linear Regression"
   ]
  },
  {
   "cell_type": "code",
   "execution_count": 281,
   "metadata": {},
   "outputs": [
    {
     "name": "stdout",
     "output_type": "stream",
     "text": [
      "The regression line eq is: y = -0.08x + 6.77\n",
      "The r value is: -0.19359657482648263\n",
      "The regression plot does show a little bit of an increase but not enough to make a solid conclusion.\n",
      "So that means there isn't much of a correlation in this data set but if there is its a negative correlation.\n"
     ]
    },
    {
     "data": {
      "image/png": "[encoded data removed]",
      "text/plain": [
       "<Figure size 432x288 with 1 Axes>"
      ]
     },
     "metadata": {
      "needs_background": "light"
     },
     "output_type": "display_data"
    },
    {
     "data": {
      "text/plain": [
       "<Figure size 432x288 with 0 Axes>"
      ]
     },
     "metadata": {},
     "output_type": "display_data"
    }
   ],
   "source": [
    "# Now for the North hemisphere humidity\n",
    "x_val = pd.to_numeric(south_hemis_df[\"Lat\"]).astype(float)\n",
    "y_val = pd.to_numeric(south_hemis_df[\"Wind Speed\"]).astype(float)\n",
    "(slope, intercept, rvalue, pvalue, stderr) = linregress(x_val, y_val)\n",
    "regress_values = x_val * slope + intercept\n",
    "line_eq = \"y = \" + str(round(slope, 2)) + \"x + \" + str(round(intercept, 2))\n",
    "print(f\"The regression line eq is: {line_eq}\")\n",
    "plt.scatter(x_val, y_val)\n",
    "plt.plot(x_val, regress_values, \"r-\")\n",
    "plt.annotate(line_eq, (6,25), fontsize=15, color=\"red\")\n",
    "plt.xlabel(\"Latitude\")\n",
    "plt.ylabel(\"Wind Speed\")\n",
    "plt.title(\"Southern Hemisphere - Wind Speed (mph) vs. Latitude Linear Regression¶\")\n",
    "print(f\"The r value is: {rvalue}\")\n",
    "print(\"The regression plot does show a little bit of an increase but not enough to make a solid conclusion.\")\n",
    "print(\"So that means there isn't much of a correlation in this data set but if there is its a negative correlation.\")\n",
    "plt.show()\n",
    "plt.savefig(\"../Images/output_data/Fig12.png\")"
   ]
  },
  {
   "cell_type": "code",
   "execution_count": null,
   "metadata": {},
   "outputs": [],
   "source": []
  }
 ],
 "metadata": {
  "anaconda-cloud": {},
  "kernel_info": {
   "name": "python3"
  },
  "kernelspec": {
   "display_name": "Python 3",
   "language": "python",
   "name": "python3"
  },
  "language_info": {
   "codemirror_mode": {
    "name": "ipython",
    "version": 3
   },
   "file_extension": ".py",
   "mimetype": "text/x-python",
   "name": "python",
   "nbconvert_exporter": "python",
   "pygments_lexer": "ipython3",
   "version": "3.8.3"
  },
  "latex_envs": {
   "LaTeX_envs_menu_present": true,
   "autoclose": false,
   "autocomplete": true,
   "bibliofile": "biblio.bib",
   "cite_by": "apalike",
   "current_citInitial": 1,
   "eqLabelWithNumbers": true,
   "eqNumInitial": 1,
   "hotkeys": {
    "equation": "Ctrl-E",
    "itemize": "Ctrl-I"
   },
   "labels_anchors": false,
   "latex_user_defs": false,
   "report_style_numbering": false,
   "user_envs_cfg": false
  },
  "nteract": {
   "version": "0.12.3"
  }
 },
 "nbformat": 4,
 "nbformat_minor": 2
}
